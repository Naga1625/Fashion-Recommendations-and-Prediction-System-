{
 "cells": [
  {
   "cell_type": "code",
   "execution_count": 1,
   "id": "ef459496",
   "metadata": {},
   "outputs": [
    {
     "name": "stdout",
     "output_type": "stream",
     "text": [
      "Requirement already satisfied: boto3 in /Users/maggie/opt/anaconda3/lib/python3.9/site-packages (1.21.28)\n",
      "Requirement already satisfied: jmespath<2.0.0,>=0.7.1 in /Users/maggie/opt/anaconda3/lib/python3.9/site-packages (from boto3) (0.10.0)\n",
      "Requirement already satisfied: botocore<1.25.0,>=1.24.28 in /Users/maggie/opt/anaconda3/lib/python3.9/site-packages (from boto3) (1.24.33)\n",
      "Requirement already satisfied: s3transfer<0.6.0,>=0.5.0 in /Users/maggie/opt/anaconda3/lib/python3.9/site-packages (from boto3) (0.5.2)\n",
      "Requirement already satisfied: urllib3<1.27,>=1.25.4 in /Users/maggie/opt/anaconda3/lib/python3.9/site-packages (from botocore<1.25.0,>=1.24.28->boto3) (1.26.7)\n",
      "Requirement already satisfied: python-dateutil<3.0.0,>=2.1 in /Users/maggie/opt/anaconda3/lib/python3.9/site-packages (from botocore<1.25.0,>=1.24.28->boto3) (2.8.2)\n",
      "Requirement already satisfied: six>=1.5 in /Users/maggie/opt/anaconda3/lib/python3.9/site-packages (from python-dateutil<3.0.0,>=2.1->botocore<1.25.0,>=1.24.28->boto3) (1.16.0)\n"
     ]
    }
   ],
   "source": [
    "!pip install boto3"
   ]
  },
  {
   "cell_type": "markdown",
   "id": "3842f54e",
   "metadata": {},
   "source": [
    "# !pip install s3fs"
   ]
  },
  {
   "cell_type": "code",
   "execution_count": 2,
   "id": "b92a8ee9",
   "metadata": {},
   "outputs": [
    {
     "name": "stdout",
     "output_type": "stream",
     "text": [
      "Requirement already satisfied: sklearn in /Users/maggie/opt/anaconda3/lib/python3.9/site-packages (0.0)\n",
      "Requirement already satisfied: scikit-learn in /Users/maggie/opt/anaconda3/lib/python3.9/site-packages (from sklearn) (0.24.2)\n",
      "Requirement already satisfied: threadpoolctl>=2.0.0 in /Users/maggie/opt/anaconda3/lib/python3.9/site-packages (from scikit-learn->sklearn) (2.2.0)\n",
      "Requirement already satisfied: scipy>=0.19.1 in /Users/maggie/opt/anaconda3/lib/python3.9/site-packages (from scikit-learn->sklearn) (1.7.1)\n",
      "Requirement already satisfied: numpy>=1.13.3 in /Users/maggie/opt/anaconda3/lib/python3.9/site-packages (from scikit-learn->sklearn) (1.20.3)\n",
      "Requirement already satisfied: joblib>=0.11 in /Users/maggie/opt/anaconda3/lib/python3.9/site-packages (from scikit-learn->sklearn) (1.1.0)\n"
     ]
    }
   ],
   "source": [
    "!pip install sklearn\n"
   ]
  },
  {
   "cell_type": "code",
   "execution_count": 3,
   "id": "89877a22",
   "metadata": {},
   "outputs": [],
   "source": [
    "import boto3"
   ]
  },
  {
   "cell_type": "code",
   "execution_count": 4,
   "id": "47478135",
   "metadata": {},
   "outputs": [
    {
     "name": "stdout",
     "output_type": "stream",
     "text": [
      "Requirement already satisfied: pandas in /Users/maggie/opt/anaconda3/lib/python3.9/site-packages (1.3.4)\r\n",
      "Requirement already satisfied: python-dateutil>=2.7.3 in /Users/maggie/opt/anaconda3/lib/python3.9/site-packages (from pandas) (2.8.2)\r\n",
      "Requirement already satisfied: pytz>=2017.3 in /Users/maggie/opt/anaconda3/lib/python3.9/site-packages (from pandas) (2021.3)\r\n",
      "Requirement already satisfied: numpy>=1.17.3 in /Users/maggie/opt/anaconda3/lib/python3.9/site-packages (from pandas) (1.20.3)\r\n",
      "Requirement already satisfied: six>=1.5 in /Users/maggie/opt/anaconda3/lib/python3.9/site-packages (from python-dateutil>=2.7.3->pandas) (1.16.0)\r\n"
     ]
    }
   ],
   "source": [
    "!pip install pandas\n",
    "import pandas as pd\n",
    "import matplotlib.pyplot as plt\n",
    "import seaborn as sns"
   ]
  },
  {
   "cell_type": "code",
   "execution_count": 5,
   "id": "f3bbd739",
   "metadata": {},
   "outputs": [],
   "source": [
    "client = boto3.client('s3')"
   ]
  },
  {
   "cell_type": "code",
   "execution_count": null,
   "id": "045f272d",
   "metadata": {},
   "outputs": [],
   "source": [
    "path2 = 's3://handm1/customers.csv' \n",
    "path3 = 's3://handm1/transactions_train.csv'"
   ]
  },
  {
   "cell_type": "code",
   "execution_count": 6,
   "id": "720e48e8",
   "metadata": {},
   "outputs": [],
   "source": [
    "customers = pd.read_csv('customers.csv')\n",
    "transaction = pd.read_csv('transactions_train.csv')"
   ]
  },
  {
   "cell_type": "code",
   "execution_count": 123,
   "id": "5b97add6",
   "metadata": {},
   "outputs": [
    {
     "name": "stdout",
     "output_type": "stream",
     "text": [
      "<class 'pandas.core.frame.DataFrame'>\n",
      "RangeIndex: 1371980 entries, 0 to 1371979\n",
      "Data columns (total 7 columns):\n",
      " #   Column                  Non-Null Count    Dtype  \n",
      "---  ------                  --------------    -----  \n",
      " 0   customer_id             1371980 non-null  object \n",
      " 1   FN                      476930 non-null   float64\n",
      " 2   Active                  464404 non-null   float64\n",
      " 3   club_member_status      1365918 non-null  object \n",
      " 4   fashion_news_frequency  1355971 non-null  object \n",
      " 5   age                     1356119 non-null  float64\n",
      " 6   postal_code             1371980 non-null  object \n",
      "dtypes: float64(3), object(4)\n",
      "memory usage: 73.3+ MB\n"
     ]
    }
   ],
   "source": [
    "customers.info()"
   ]
  },
  {
   "cell_type": "markdown",
   "id": "cc5b5fad",
   "metadata": {},
   "source": [
    "customers.columns"
   ]
  },
  {
   "cell_type": "code",
   "execution_count": 10,
   "id": "4a49d180",
   "metadata": {},
   "outputs": [
    {
     "data": {
      "text/plain": [
       "Index(['customer_id', 'FN', 'Active', 'club_member_status',\n",
       "       'fashion_news_frequency', 'age', 'postal_code'],\n",
       "      dtype='object')"
      ]
     },
     "execution_count": 10,
     "metadata": {},
     "output_type": "execute_result"
    }
   ],
   "source": [
    "customers.columns"
   ]
  },
  {
   "cell_type": "code",
   "execution_count": 11,
   "id": "2d108b7d",
   "metadata": {},
   "outputs": [
    {
     "data": {
      "text/html": [
       "<div>\n",
       "<style scoped>\n",
       "    .dataframe tbody tr th:only-of-type {\n",
       "        vertical-align: middle;\n",
       "    }\n",
       "\n",
       "    .dataframe tbody tr th {\n",
       "        vertical-align: top;\n",
       "    }\n",
       "\n",
       "    .dataframe thead th {\n",
       "        text-align: right;\n",
       "    }\n",
       "</style>\n",
       "<table border=\"1\" class=\"dataframe\">\n",
       "  <thead>\n",
       "    <tr style=\"text-align: right;\">\n",
       "      <th></th>\n",
       "      <th>t_dat</th>\n",
       "      <th>customer_id</th>\n",
       "      <th>article_id</th>\n",
       "      <th>price</th>\n",
       "      <th>sales_channel_id</th>\n",
       "    </tr>\n",
       "  </thead>\n",
       "  <tbody>\n",
       "    <tr>\n",
       "      <th>0</th>\n",
       "      <td>2018-09-20</td>\n",
       "      <td>000058a12d5b43e67d225668fa1f8d618c13dc232df0ca...</td>\n",
       "      <td>663713001</td>\n",
       "      <td>0.050831</td>\n",
       "      <td>2</td>\n",
       "    </tr>\n",
       "    <tr>\n",
       "      <th>1</th>\n",
       "      <td>2018-09-20</td>\n",
       "      <td>000058a12d5b43e67d225668fa1f8d618c13dc232df0ca...</td>\n",
       "      <td>541518023</td>\n",
       "      <td>0.030492</td>\n",
       "      <td>2</td>\n",
       "    </tr>\n",
       "    <tr>\n",
       "      <th>2</th>\n",
       "      <td>2018-09-20</td>\n",
       "      <td>00007d2de826758b65a93dd24ce629ed66842531df6699...</td>\n",
       "      <td>505221004</td>\n",
       "      <td>0.015237</td>\n",
       "      <td>2</td>\n",
       "    </tr>\n",
       "    <tr>\n",
       "      <th>3</th>\n",
       "      <td>2018-09-20</td>\n",
       "      <td>00007d2de826758b65a93dd24ce629ed66842531df6699...</td>\n",
       "      <td>685687003</td>\n",
       "      <td>0.016932</td>\n",
       "      <td>2</td>\n",
       "    </tr>\n",
       "    <tr>\n",
       "      <th>4</th>\n",
       "      <td>2018-09-20</td>\n",
       "      <td>00007d2de826758b65a93dd24ce629ed66842531df6699...</td>\n",
       "      <td>685687004</td>\n",
       "      <td>0.016932</td>\n",
       "      <td>2</td>\n",
       "    </tr>\n",
       "  </tbody>\n",
       "</table>\n",
       "</div>"
      ],
      "text/plain": [
       "        t_dat                                        customer_id  article_id  \\\n",
       "0  2018-09-20  000058a12d5b43e67d225668fa1f8d618c13dc232df0ca...   663713001   \n",
       "1  2018-09-20  000058a12d5b43e67d225668fa1f8d618c13dc232df0ca...   541518023   \n",
       "2  2018-09-20  00007d2de826758b65a93dd24ce629ed66842531df6699...   505221004   \n",
       "3  2018-09-20  00007d2de826758b65a93dd24ce629ed66842531df6699...   685687003   \n",
       "4  2018-09-20  00007d2de826758b65a93dd24ce629ed66842531df6699...   685687004   \n",
       "\n",
       "      price  sales_channel_id  \n",
       "0  0.050831                 2  \n",
       "1  0.030492                 2  \n",
       "2  0.015237                 2  \n",
       "3  0.016932                 2  \n",
       "4  0.016932                 2  "
      ]
     },
     "execution_count": 11,
     "metadata": {},
     "output_type": "execute_result"
    }
   ],
   "source": [
    "transaction.head()"
   ]
  },
  {
   "cell_type": "code",
   "execution_count": 12,
   "id": "6d3cc36c",
   "metadata": {},
   "outputs": [
    {
     "data": {
      "text/plain": [
       "Index(['t_dat', 'customer_id', 'article_id', 'price', 'sales_channel_id'], dtype='object')"
      ]
     },
     "execution_count": 12,
     "metadata": {},
     "output_type": "execute_result"
    }
   ],
   "source": [
    "transaction.columns"
   ]
  },
  {
   "cell_type": "markdown",
   "id": "8223693e",
   "metadata": {},
   "source": [
    "##Left Join for transaction and customer tables"
   ]
  },
  {
   "cell_type": "code",
   "execution_count": 13,
   "id": "0c9bd1c2",
   "metadata": {},
   "outputs": [],
   "source": [
    "result = pd.merge(transaction,customers,how=\"left\", on=[\"customer_id\",\"customer_id\"])"
   ]
  },
  {
   "cell_type": "code",
   "execution_count": 14,
   "id": "30dd71cf",
   "metadata": {},
   "outputs": [
    {
     "data": {
      "text/html": [
       "<div>\n",
       "<style scoped>\n",
       "    .dataframe tbody tr th:only-of-type {\n",
       "        vertical-align: middle;\n",
       "    }\n",
       "\n",
       "    .dataframe tbody tr th {\n",
       "        vertical-align: top;\n",
       "    }\n",
       "\n",
       "    .dataframe thead th {\n",
       "        text-align: right;\n",
       "    }\n",
       "</style>\n",
       "<table border=\"1\" class=\"dataframe\">\n",
       "  <thead>\n",
       "    <tr style=\"text-align: right;\">\n",
       "      <th></th>\n",
       "      <th>t_dat</th>\n",
       "      <th>customer_id</th>\n",
       "      <th>article_id</th>\n",
       "      <th>price</th>\n",
       "      <th>sales_channel_id</th>\n",
       "      <th>FN</th>\n",
       "      <th>Active</th>\n",
       "      <th>club_member_status</th>\n",
       "      <th>fashion_news_frequency</th>\n",
       "      <th>age</th>\n",
       "      <th>postal_code</th>\n",
       "    </tr>\n",
       "  </thead>\n",
       "  <tbody>\n",
       "    <tr>\n",
       "      <th>0</th>\n",
       "      <td>2018-09-20</td>\n",
       "      <td>000058a12d5b43e67d225668fa1f8d618c13dc232df0ca...</td>\n",
       "      <td>663713001</td>\n",
       "      <td>0.050831</td>\n",
       "      <td>2</td>\n",
       "      <td>NaN</td>\n",
       "      <td>NaN</td>\n",
       "      <td>ACTIVE</td>\n",
       "      <td>NONE</td>\n",
       "      <td>24.0</td>\n",
       "      <td>64f17e6a330a85798e4998f62d0930d14db8db1c054af6...</td>\n",
       "    </tr>\n",
       "    <tr>\n",
       "      <th>1</th>\n",
       "      <td>2018-09-20</td>\n",
       "      <td>000058a12d5b43e67d225668fa1f8d618c13dc232df0ca...</td>\n",
       "      <td>541518023</td>\n",
       "      <td>0.030492</td>\n",
       "      <td>2</td>\n",
       "      <td>NaN</td>\n",
       "      <td>NaN</td>\n",
       "      <td>ACTIVE</td>\n",
       "      <td>NONE</td>\n",
       "      <td>24.0</td>\n",
       "      <td>64f17e6a330a85798e4998f62d0930d14db8db1c054af6...</td>\n",
       "    </tr>\n",
       "    <tr>\n",
       "      <th>2</th>\n",
       "      <td>2018-09-20</td>\n",
       "      <td>00007d2de826758b65a93dd24ce629ed66842531df6699...</td>\n",
       "      <td>505221004</td>\n",
       "      <td>0.015237</td>\n",
       "      <td>2</td>\n",
       "      <td>1.0</td>\n",
       "      <td>1.0</td>\n",
       "      <td>ACTIVE</td>\n",
       "      <td>Regularly</td>\n",
       "      <td>32.0</td>\n",
       "      <td>8d6f45050876d059c830a0fe63f1a4c022de279bb68ce3...</td>\n",
       "    </tr>\n",
       "    <tr>\n",
       "      <th>3</th>\n",
       "      <td>2018-09-20</td>\n",
       "      <td>00007d2de826758b65a93dd24ce629ed66842531df6699...</td>\n",
       "      <td>685687003</td>\n",
       "      <td>0.016932</td>\n",
       "      <td>2</td>\n",
       "      <td>1.0</td>\n",
       "      <td>1.0</td>\n",
       "      <td>ACTIVE</td>\n",
       "      <td>Regularly</td>\n",
       "      <td>32.0</td>\n",
       "      <td>8d6f45050876d059c830a0fe63f1a4c022de279bb68ce3...</td>\n",
       "    </tr>\n",
       "    <tr>\n",
       "      <th>4</th>\n",
       "      <td>2018-09-20</td>\n",
       "      <td>00007d2de826758b65a93dd24ce629ed66842531df6699...</td>\n",
       "      <td>685687004</td>\n",
       "      <td>0.016932</td>\n",
       "      <td>2</td>\n",
       "      <td>1.0</td>\n",
       "      <td>1.0</td>\n",
       "      <td>ACTIVE</td>\n",
       "      <td>Regularly</td>\n",
       "      <td>32.0</td>\n",
       "      <td>8d6f45050876d059c830a0fe63f1a4c022de279bb68ce3...</td>\n",
       "    </tr>\n",
       "  </tbody>\n",
       "</table>\n",
       "</div>"
      ],
      "text/plain": [
       "        t_dat                                        customer_id  article_id  \\\n",
       "0  2018-09-20  000058a12d5b43e67d225668fa1f8d618c13dc232df0ca...   663713001   \n",
       "1  2018-09-20  000058a12d5b43e67d225668fa1f8d618c13dc232df0ca...   541518023   \n",
       "2  2018-09-20  00007d2de826758b65a93dd24ce629ed66842531df6699...   505221004   \n",
       "3  2018-09-20  00007d2de826758b65a93dd24ce629ed66842531df6699...   685687003   \n",
       "4  2018-09-20  00007d2de826758b65a93dd24ce629ed66842531df6699...   685687004   \n",
       "\n",
       "      price  sales_channel_id   FN  Active club_member_status  \\\n",
       "0  0.050831                 2  NaN     NaN             ACTIVE   \n",
       "1  0.030492                 2  NaN     NaN             ACTIVE   \n",
       "2  0.015237                 2  1.0     1.0             ACTIVE   \n",
       "3  0.016932                 2  1.0     1.0             ACTIVE   \n",
       "4  0.016932                 2  1.0     1.0             ACTIVE   \n",
       "\n",
       "  fashion_news_frequency   age  \\\n",
       "0                   NONE  24.0   \n",
       "1                   NONE  24.0   \n",
       "2              Regularly  32.0   \n",
       "3              Regularly  32.0   \n",
       "4              Regularly  32.0   \n",
       "\n",
       "                                         postal_code  \n",
       "0  64f17e6a330a85798e4998f62d0930d14db8db1c054af6...  \n",
       "1  64f17e6a330a85798e4998f62d0930d14db8db1c054af6...  \n",
       "2  8d6f45050876d059c830a0fe63f1a4c022de279bb68ce3...  \n",
       "3  8d6f45050876d059c830a0fe63f1a4c022de279bb68ce3...  \n",
       "4  8d6f45050876d059c830a0fe63f1a4c022de279bb68ce3...  "
      ]
     },
     "execution_count": 14,
     "metadata": {},
     "output_type": "execute_result"
    }
   ],
   "source": [
    "result.head()"
   ]
  },
  {
   "cell_type": "code",
   "execution_count": 15,
   "id": "c868d88f",
   "metadata": {},
   "outputs": [
    {
     "data": {
      "text/plain": [
       "Index(['t_dat', 'customer_id', 'article_id', 'price', 'sales_channel_id', 'FN',\n",
       "       'Active', 'club_member_status', 'fashion_news_frequency', 'age',\n",
       "       'postal_code'],\n",
       "      dtype='object')"
      ]
     },
     "execution_count": 15,
     "metadata": {},
     "output_type": "execute_result"
    }
   ],
   "source": [
    "result.columns"
   ]
  },
  {
   "cell_type": "code",
   "execution_count": 16,
   "id": "14336f5d",
   "metadata": {},
   "outputs": [],
   "source": [
    "## Removing Unnecessary features\n",
    "# Here article_id is removed because our goal is to findout if the person is going to buy a product in 90 days \n",
    "# or not. Article id is not needed for it."
   ]
  },
  {
   "cell_type": "code",
   "execution_count": 17,
   "id": "50f38d71",
   "metadata": {},
   "outputs": [],
   "source": [
    "result = result.drop(['article_id'],axis=1)"
   ]
  },
  {
   "cell_type": "markdown",
   "id": "a2fbae1d",
   "metadata": {},
   "source": [
    "# Data Preprocessing\n",
    "- Missing Values\n",
    "- Cardinality\n",
    "- Minumum value\n",
    "- Maximum value\n",
    "- DataTypes\n",
    "- Handling Missing Value\n",
    "- Handling DataType\n",
    "- Outliers"
   ]
  },
  {
   "cell_type": "markdown",
   "id": "39a7bc0b",
   "metadata": {},
   "source": [
    "## Missing Values"
   ]
  },
  {
   "cell_type": "code",
   "execution_count": 18,
   "id": "70ed3706",
   "metadata": {},
   "outputs": [
    {
     "data": {
      "text/plain": [
       "t_dat                            0\n",
       "customer_id                      0\n",
       "price                            0\n",
       "sales_channel_id                 0\n",
       "FN                        18209837\n",
       "Active                    18412468\n",
       "club_member_status           62165\n",
       "fashion_news_frequency      141711\n",
       "age                         140258\n",
       "postal_code                      0\n",
       "dtype: int64"
      ]
     },
     "execution_count": 18,
     "metadata": {},
     "output_type": "execute_result"
    }
   ],
   "source": [
    "result.isna().sum()"
   ]
  },
  {
   "cell_type": "code",
   "execution_count": 19,
   "id": "d6ce5d19",
   "metadata": {},
   "outputs": [],
   "source": [
    "missing_values = pd.DataFrame(result.isna().sum(),columns=['Missing_Values'])"
   ]
  },
  {
   "cell_type": "code",
   "execution_count": 20,
   "id": "f1a960d6",
   "metadata": {},
   "outputs": [
    {
     "data": {
      "text/plain": [
       "t_dat                      0.000000\n",
       "customer_id                0.000000\n",
       "price                      0.000000\n",
       "sales_channel_id           0.000000\n",
       "FN                        57.284672\n",
       "Active                    57.922110\n",
       "club_member_status         0.195559\n",
       "fashion_news_frequency     0.445796\n",
       "age                        0.441225\n",
       "postal_code                0.000000\n",
       "dtype: float64"
      ]
     },
     "execution_count": 20,
     "metadata": {},
     "output_type": "execute_result"
    }
   ],
   "source": [
    "result.isna().sum() * 100/len(result)"
   ]
  },
  {
   "cell_type": "code",
   "execution_count": 21,
   "id": "8a266dcb",
   "metadata": {},
   "outputs": [],
   "source": [
    "# Cardinality\n",
    "# Here we have 2 years data which is approx of 734.\n",
    "# Customer_id, article_id, price, and age unique values looks reasonable.  \n",
    "#Sales_channel_id, club_members, and fashnion news frequency are also having reable unique values"
   ]
  },
  {
   "cell_type": "code",
   "execution_count": 22,
   "id": "4537b9f4",
   "metadata": {},
   "outputs": [
    {
     "data": {
      "text/plain": [
       "t_dat                         734\n",
       "customer_id               1362281\n",
       "price                        9857\n",
       "sales_channel_id                2\n",
       "FN                              1\n",
       "Active                          1\n",
       "club_member_status              3\n",
       "fashion_news_frequency          4\n",
       "age                            84\n",
       "postal_code                352336\n",
       "dtype: int64"
      ]
     },
     "execution_count": 22,
     "metadata": {},
     "output_type": "execute_result"
    }
   ],
   "source": [
    "result.nunique()"
   ]
  },
  {
   "cell_type": "code",
   "execution_count": 23,
   "id": "907777e9",
   "metadata": {},
   "outputs": [],
   "source": [
    "Cardinality = pd.DataFrame(result.nunique(),columns=['Cardinality'])"
   ]
  },
  {
   "cell_type": "code",
   "execution_count": 24,
   "id": "23b4202b",
   "metadata": {},
   "outputs": [],
   "source": [
    "#Count"
   ]
  },
  {
   "cell_type": "code",
   "execution_count": 25,
   "id": "965bdbae",
   "metadata": {},
   "outputs": [
    {
     "data": {
      "text/plain": [
       "t_dat                     31788324\n",
       "customer_id               31788324\n",
       "price                     31788324\n",
       "sales_channel_id          31788324\n",
       "FN                        13578487\n",
       "Active                    13375856\n",
       "club_member_status        31726159\n",
       "fashion_news_frequency    31646613\n",
       "age                       31648066\n",
       "postal_code               31788324\n",
       "dtype: int64"
      ]
     },
     "execution_count": 25,
     "metadata": {},
     "output_type": "execute_result"
    }
   ],
   "source": [
    "result.count()"
   ]
  },
  {
   "cell_type": "code",
   "execution_count": 26,
   "id": "627bf6ba",
   "metadata": {},
   "outputs": [],
   "source": [
    "count = pd.DataFrame(result.count(),columns=['count'])"
   ]
  },
  {
   "cell_type": "code",
   "execution_count": 27,
   "id": "591cc8c5",
   "metadata": {},
   "outputs": [],
   "source": [
    "# Maximum and minimum values"
   ]
  },
  {
   "cell_type": "code",
   "execution_count": 57,
   "id": "4547c5d4",
   "metadata": {},
   "outputs": [
    {
     "data": {
      "text/html": [
       "<div>\n",
       "<style scoped>\n",
       "    .dataframe tbody tr th:only-of-type {\n",
       "        vertical-align: middle;\n",
       "    }\n",
       "\n",
       "    .dataframe tbody tr th {\n",
       "        vertical-align: top;\n",
       "    }\n",
       "\n",
       "    .dataframe thead th {\n",
       "        text-align: right;\n",
       "    }\n",
       "</style>\n",
       "<table border=\"1\" class=\"dataframe\">\n",
       "  <thead>\n",
       "    <tr style=\"text-align: right;\">\n",
       "      <th></th>\n",
       "      <th>price</th>\n",
       "      <th>sales_channel_id</th>\n",
       "      <th>age</th>\n",
       "    </tr>\n",
       "  </thead>\n",
       "  <tbody>\n",
       "    <tr>\n",
       "      <th>count</th>\n",
       "      <td>3.178832e+07</td>\n",
       "      <td>3.178832e+07</td>\n",
       "      <td>3.178832e+07</td>\n",
       "    </tr>\n",
       "    <tr>\n",
       "      <th>mean</th>\n",
       "      <td>2.782927e-02</td>\n",
       "      <td>1.704028e+00</td>\n",
       "      <td>3.601604e+01</td>\n",
       "    </tr>\n",
       "    <tr>\n",
       "      <th>std</th>\n",
       "      <td>1.918113e-02</td>\n",
       "      <td>4.564786e-01</td>\n",
       "      <td>1.295566e+01</td>\n",
       "    </tr>\n",
       "    <tr>\n",
       "      <th>min</th>\n",
       "      <td>1.694915e-05</td>\n",
       "      <td>1.000000e+00</td>\n",
       "      <td>1.600000e+01</td>\n",
       "    </tr>\n",
       "    <tr>\n",
       "      <th>25%</th>\n",
       "      <td>1.581356e-02</td>\n",
       "      <td>1.000000e+00</td>\n",
       "      <td>2.500000e+01</td>\n",
       "    </tr>\n",
       "    <tr>\n",
       "      <th>50%</th>\n",
       "      <td>2.540678e-02</td>\n",
       "      <td>2.000000e+00</td>\n",
       "      <td>3.100000e+01</td>\n",
       "    </tr>\n",
       "    <tr>\n",
       "      <th>75%</th>\n",
       "      <td>3.388136e-02</td>\n",
       "      <td>2.000000e+00</td>\n",
       "      <td>4.700000e+01</td>\n",
       "    </tr>\n",
       "    <tr>\n",
       "      <th>max</th>\n",
       "      <td>5.915254e-01</td>\n",
       "      <td>2.000000e+00</td>\n",
       "      <td>9.900000e+01</td>\n",
       "    </tr>\n",
       "  </tbody>\n",
       "</table>\n",
       "</div>"
      ],
      "text/plain": [
       "              price  sales_channel_id           age\n",
       "count  3.178832e+07      3.178832e+07  3.178832e+07\n",
       "mean   2.782927e-02      1.704028e+00  3.601604e+01\n",
       "std    1.918113e-02      4.564786e-01  1.295566e+01\n",
       "min    1.694915e-05      1.000000e+00  1.600000e+01\n",
       "25%    1.581356e-02      1.000000e+00  2.500000e+01\n",
       "50%    2.540678e-02      2.000000e+00  3.100000e+01\n",
       "75%    3.388136e-02      2.000000e+00  4.700000e+01\n",
       "max    5.915254e-01      2.000000e+00  9.900000e+01"
      ]
     },
     "execution_count": 57,
     "metadata": {},
     "output_type": "execute_result"
    }
   ],
   "source": [
    "result.describe()"
   ]
  },
  {
   "cell_type": "code",
   "execution_count": 58,
   "id": "a8d1aff1",
   "metadata": {},
   "outputs": [],
   "source": [
    "# Data types"
   ]
  },
  {
   "cell_type": "code",
   "execution_count": 59,
   "id": "e8efa39b",
   "metadata": {},
   "outputs": [
    {
     "name": "stdout",
     "output_type": "stream",
     "text": [
      "<class 'pandas.core.frame.DataFrame'>\n",
      "Int64Index: 31788324 entries, 0 to 31788323\n",
      "Data columns (total 8 columns):\n",
      " #   Column                  Dtype         \n",
      "---  ------                  -----         \n",
      " 0   t_dat                   datetime64[ns]\n",
      " 1   customer_id             object        \n",
      " 2   price                   float64       \n",
      " 3   sales_channel_id        int64         \n",
      " 4   club_member_status      object        \n",
      " 5   fashion_news_frequency  object        \n",
      " 6   age                     float64       \n",
      " 7   postal_code             object        \n",
      "dtypes: datetime64[ns](1), float64(2), int64(1), object(4)\n",
      "memory usage: 2.1+ GB\n"
     ]
    }
   ],
   "source": [
    "result.info()"
   ]
  },
  {
   "cell_type": "code",
   "execution_count": 60,
   "id": "3a5e67e4",
   "metadata": {},
   "outputs": [],
   "source": [
    "data_types = pd.DataFrame(result.dtypes,columns=['Data_Types'])"
   ]
  },
  {
   "cell_type": "code",
   "execution_count": 61,
   "id": "67d37216",
   "metadata": {},
   "outputs": [],
   "source": [
    "#Mode"
   ]
  },
  {
   "cell_type": "code",
   "execution_count": 62,
   "id": "bbaf730a",
   "metadata": {},
   "outputs": [],
   "source": [
    "mode = pd.DataFrame(result[['sales_channel_id','club_member_status','fashion_news_frequency']].value_counts().idxmax(),columns=['Mode'])"
   ]
  },
  {
   "cell_type": "code",
   "execution_count": 63,
   "id": "7acf765a",
   "metadata": {},
   "outputs": [
    {
     "data": {
      "text/html": [
       "<div>\n",
       "<style scoped>\n",
       "    .dataframe tbody tr th:only-of-type {\n",
       "        vertical-align: middle;\n",
       "    }\n",
       "\n",
       "    .dataframe tbody tr th {\n",
       "        vertical-align: top;\n",
       "    }\n",
       "\n",
       "    .dataframe thead th {\n",
       "        text-align: right;\n",
       "    }\n",
       "</style>\n",
       "<table border=\"1\" class=\"dataframe\">\n",
       "  <thead>\n",
       "    <tr style=\"text-align: right;\">\n",
       "      <th></th>\n",
       "      <th>Mode</th>\n",
       "    </tr>\n",
       "  </thead>\n",
       "  <tbody>\n",
       "    <tr>\n",
       "      <th>0</th>\n",
       "      <td>2</td>\n",
       "    </tr>\n",
       "    <tr>\n",
       "      <th>1</th>\n",
       "      <td>ACTIVE</td>\n",
       "    </tr>\n",
       "    <tr>\n",
       "      <th>2</th>\n",
       "      <td>NONE</td>\n",
       "    </tr>\n",
       "  </tbody>\n",
       "</table>\n",
       "</div>"
      ],
      "text/plain": [
       "     Mode\n",
       "0       2\n",
       "1  ACTIVE\n",
       "2    NONE"
      ]
     },
     "execution_count": 63,
     "metadata": {},
     "output_type": "execute_result"
    }
   ],
   "source": [
    "mode"
   ]
  },
  {
   "cell_type": "code",
   "execution_count": 64,
   "id": "446fdbab",
   "metadata": {},
   "outputs": [],
   "source": [
    "#Data quality report"
   ]
  },
  {
   "cell_type": "code",
   "execution_count": 65,
   "id": "b9caf02a",
   "metadata": {},
   "outputs": [
    {
     "data": {
      "text/html": [
       "<div>\n",
       "<style scoped>\n",
       "    .dataframe tbody tr th:only-of-type {\n",
       "        vertical-align: middle;\n",
       "    }\n",
       "\n",
       "    .dataframe tbody tr th {\n",
       "        vertical-align: top;\n",
       "    }\n",
       "\n",
       "    .dataframe thead th {\n",
       "        text-align: right;\n",
       "    }\n",
       "</style>\n",
       "<table border=\"1\" class=\"dataframe\">\n",
       "  <thead>\n",
       "    <tr style=\"text-align: right;\">\n",
       "      <th></th>\n",
       "      <th>Data_Types</th>\n",
       "      <th>Missing_Values</th>\n",
       "      <th>Cardinality</th>\n",
       "      <th>count</th>\n",
       "    </tr>\n",
       "  </thead>\n",
       "  <tbody>\n",
       "    <tr>\n",
       "      <th>t_dat</th>\n",
       "      <td>datetime64[ns]</td>\n",
       "      <td>0</td>\n",
       "      <td>734</td>\n",
       "      <td>31788324</td>\n",
       "    </tr>\n",
       "    <tr>\n",
       "      <th>customer_id</th>\n",
       "      <td>object</td>\n",
       "      <td>0</td>\n",
       "      <td>1362281</td>\n",
       "      <td>31788324</td>\n",
       "    </tr>\n",
       "    <tr>\n",
       "      <th>price</th>\n",
       "      <td>float64</td>\n",
       "      <td>0</td>\n",
       "      <td>9857</td>\n",
       "      <td>31788324</td>\n",
       "    </tr>\n",
       "    <tr>\n",
       "      <th>sales_channel_id</th>\n",
       "      <td>int64</td>\n",
       "      <td>0</td>\n",
       "      <td>2</td>\n",
       "      <td>31788324</td>\n",
       "    </tr>\n",
       "    <tr>\n",
       "      <th>club_member_status</th>\n",
       "      <td>object</td>\n",
       "      <td>62165</td>\n",
       "      <td>3</td>\n",
       "      <td>31726159</td>\n",
       "    </tr>\n",
       "    <tr>\n",
       "      <th>fashion_news_frequency</th>\n",
       "      <td>object</td>\n",
       "      <td>141711</td>\n",
       "      <td>4</td>\n",
       "      <td>31646613</td>\n",
       "    </tr>\n",
       "    <tr>\n",
       "      <th>age</th>\n",
       "      <td>float64</td>\n",
       "      <td>140258</td>\n",
       "      <td>84</td>\n",
       "      <td>31648066</td>\n",
       "    </tr>\n",
       "    <tr>\n",
       "      <th>postal_code</th>\n",
       "      <td>object</td>\n",
       "      <td>0</td>\n",
       "      <td>352336</td>\n",
       "      <td>31788324</td>\n",
       "    </tr>\n",
       "  </tbody>\n",
       "</table>\n",
       "</div>"
      ],
      "text/plain": [
       "                            Data_Types  Missing_Values  Cardinality     count\n",
       "t_dat                   datetime64[ns]               0          734  31788324\n",
       "customer_id                     object               0      1362281  31788324\n",
       "price                          float64               0         9857  31788324\n",
       "sales_channel_id                 int64               0            2  31788324\n",
       "club_member_status              object           62165            3  31726159\n",
       "fashion_news_frequency          object          141711            4  31646613\n",
       "age                            float64          140258           84  31648066\n",
       "postal_code                     object               0       352336  31788324"
      ]
     },
     "execution_count": 65,
     "metadata": {},
     "output_type": "execute_result"
    }
   ],
   "source": [
    "data_quality_reportt = data_types.join(missing_values).join(Cardinality).join(count)\n",
    "data_quality_reportt"
   ]
  },
  {
   "cell_type": "code",
   "execution_count": 66,
   "id": "339d0b35",
   "metadata": {},
   "outputs": [],
   "source": [
    "#Data Quality Plan"
   ]
  },
  {
   "cell_type": "code",
   "execution_count": 67,
   "id": "0d73b9d0",
   "metadata": {},
   "outputs": [],
   "source": [
    "data_Quality_Plan = pd.DataFrame({'Feature':['Missing','Missing','Missing','DataType'],'Data Quality Issue':['More than 67% missing','23% Missing values','23% numerical missing values','Data type for date is object'],'Potential Handling Strategies':['remove because the missing vali=ues are more than 50%','Impute it with None','Impute it with Median','Convert the data type to time_date']})"
   ]
  },
  {
   "cell_type": "code",
   "execution_count": 68,
   "id": "6c0bd71b",
   "metadata": {},
   "outputs": [
    {
     "data": {
      "text/html": [
       "<div>\n",
       "<style scoped>\n",
       "    .dataframe tbody tr th:only-of-type {\n",
       "        vertical-align: middle;\n",
       "    }\n",
       "\n",
       "    .dataframe tbody tr th {\n",
       "        vertical-align: top;\n",
       "    }\n",
       "\n",
       "    .dataframe thead th {\n",
       "        text-align: right;\n",
       "    }\n",
       "</style>\n",
       "<table border=\"1\" class=\"dataframe\">\n",
       "  <thead>\n",
       "    <tr style=\"text-align: right;\">\n",
       "      <th></th>\n",
       "      <th>Feature</th>\n",
       "      <th>Data Quality Issue</th>\n",
       "      <th>Potential Handling Strategies</th>\n",
       "    </tr>\n",
       "  </thead>\n",
       "  <tbody>\n",
       "    <tr>\n",
       "      <th>0</th>\n",
       "      <td>Missing</td>\n",
       "      <td>More than 67% missing</td>\n",
       "      <td>remove because the missing vali=ues are more t...</td>\n",
       "    </tr>\n",
       "    <tr>\n",
       "      <th>1</th>\n",
       "      <td>Missing</td>\n",
       "      <td>23% Missing values</td>\n",
       "      <td>Impute it with None</td>\n",
       "    </tr>\n",
       "    <tr>\n",
       "      <th>2</th>\n",
       "      <td>Missing</td>\n",
       "      <td>23% numerical missing values</td>\n",
       "      <td>Impute it with Median</td>\n",
       "    </tr>\n",
       "    <tr>\n",
       "      <th>3</th>\n",
       "      <td>DataType</td>\n",
       "      <td>Data type for date is object</td>\n",
       "      <td>Convert the data type to time_date</td>\n",
       "    </tr>\n",
       "  </tbody>\n",
       "</table>\n",
       "</div>"
      ],
      "text/plain": [
       "    Feature            Data Quality Issue  \\\n",
       "0   Missing         More than 67% missing   \n",
       "1   Missing            23% Missing values   \n",
       "2   Missing  23% numerical missing values   \n",
       "3  DataType  Data type for date is object   \n",
       "\n",
       "                       Potential Handling Strategies  \n",
       "0  remove because the missing vali=ues are more t...  \n",
       "1                                Impute it with None  \n",
       "2                              Impute it with Median  \n",
       "3                 Convert the data type to time_date  "
      ]
     },
     "execution_count": 68,
     "metadata": {},
     "output_type": "execute_result"
    }
   ],
   "source": [
    "data_Quality_Plan"
   ]
  },
  {
   "cell_type": "code",
   "execution_count": 69,
   "id": "ee6256be",
   "metadata": {},
   "outputs": [],
   "source": [
    "# Handling Missing Values"
   ]
  },
  {
   "cell_type": "code",
   "execution_count": 70,
   "id": "b6c87bf3",
   "metadata": {},
   "outputs": [],
   "source": [
    "# Here both FN and Active are having more than 60%, so removing the columns is the best option.\n",
    "\n",
    "#Clubmember status and fashion news frequency are filled with None. (their missing values are less than 50%)"
   ]
  },
  {
   "cell_type": "code",
   "execution_count": 71,
   "id": "a012033a",
   "metadata": {},
   "outputs": [
    {
     "ename": "KeyError",
     "evalue": "\"['FN' 'Active'] not found in axis\"",
     "output_type": "error",
     "traceback": [
      "\u001b[0;31m---------------------------------------------------------------------------\u001b[0m",
      "\u001b[0;31mKeyError\u001b[0m                                  Traceback (most recent call last)",
      "\u001b[0;32m/var/folders/1v/x5wmbpv968z1bmkh4vxwvqt80000gn/T/ipykernel_52925/1449404445.py\u001b[0m in \u001b[0;36m<module>\u001b[0;34m\u001b[0m\n\u001b[0;32m----> 1\u001b[0;31m \u001b[0mresult\u001b[0m \u001b[0;34m=\u001b[0m \u001b[0mresult\u001b[0m\u001b[0;34m.\u001b[0m\u001b[0mdrop\u001b[0m\u001b[0;34m(\u001b[0m\u001b[0;34m[\u001b[0m\u001b[0;34m'FN'\u001b[0m\u001b[0;34m,\u001b[0m\u001b[0;34m'Active'\u001b[0m\u001b[0;34m]\u001b[0m\u001b[0;34m,\u001b[0m\u001b[0maxis\u001b[0m\u001b[0;34m=\u001b[0m\u001b[0;36m1\u001b[0m\u001b[0;34m)\u001b[0m\u001b[0;34m\u001b[0m\u001b[0;34m\u001b[0m\u001b[0m\n\u001b[0m",
      "\u001b[0;32m~/opt/anaconda3/lib/python3.9/site-packages/pandas/util/_decorators.py\u001b[0m in \u001b[0;36mwrapper\u001b[0;34m(*args, **kwargs)\u001b[0m\n\u001b[1;32m    309\u001b[0m                     \u001b[0mstacklevel\u001b[0m\u001b[0;34m=\u001b[0m\u001b[0mstacklevel\u001b[0m\u001b[0;34m,\u001b[0m\u001b[0;34m\u001b[0m\u001b[0;34m\u001b[0m\u001b[0m\n\u001b[1;32m    310\u001b[0m                 )\n\u001b[0;32m--> 311\u001b[0;31m             \u001b[0;32mreturn\u001b[0m \u001b[0mfunc\u001b[0m\u001b[0;34m(\u001b[0m\u001b[0;34m*\u001b[0m\u001b[0margs\u001b[0m\u001b[0;34m,\u001b[0m \u001b[0;34m**\u001b[0m\u001b[0mkwargs\u001b[0m\u001b[0;34m)\u001b[0m\u001b[0;34m\u001b[0m\u001b[0;34m\u001b[0m\u001b[0m\n\u001b[0m\u001b[1;32m    312\u001b[0m \u001b[0;34m\u001b[0m\u001b[0m\n\u001b[1;32m    313\u001b[0m         \u001b[0;32mreturn\u001b[0m \u001b[0mwrapper\u001b[0m\u001b[0;34m\u001b[0m\u001b[0;34m\u001b[0m\u001b[0m\n",
      "\u001b[0;32m~/opt/anaconda3/lib/python3.9/site-packages/pandas/core/frame.py\u001b[0m in \u001b[0;36mdrop\u001b[0;34m(self, labels, axis, index, columns, level, inplace, errors)\u001b[0m\n\u001b[1;32m   4904\u001b[0m                 \u001b[0mweight\u001b[0m  \u001b[0;36m1.0\u001b[0m     \u001b[0;36m0.8\u001b[0m\u001b[0;34m\u001b[0m\u001b[0;34m\u001b[0m\u001b[0m\n\u001b[1;32m   4905\u001b[0m         \"\"\"\n\u001b[0;32m-> 4906\u001b[0;31m         return super().drop(\n\u001b[0m\u001b[1;32m   4907\u001b[0m             \u001b[0mlabels\u001b[0m\u001b[0;34m=\u001b[0m\u001b[0mlabels\u001b[0m\u001b[0;34m,\u001b[0m\u001b[0;34m\u001b[0m\u001b[0;34m\u001b[0m\u001b[0m\n\u001b[1;32m   4908\u001b[0m             \u001b[0maxis\u001b[0m\u001b[0;34m=\u001b[0m\u001b[0maxis\u001b[0m\u001b[0;34m,\u001b[0m\u001b[0;34m\u001b[0m\u001b[0;34m\u001b[0m\u001b[0m\n",
      "\u001b[0;32m~/opt/anaconda3/lib/python3.9/site-packages/pandas/core/generic.py\u001b[0m in \u001b[0;36mdrop\u001b[0;34m(self, labels, axis, index, columns, level, inplace, errors)\u001b[0m\n\u001b[1;32m   4148\u001b[0m         \u001b[0;32mfor\u001b[0m \u001b[0maxis\u001b[0m\u001b[0;34m,\u001b[0m \u001b[0mlabels\u001b[0m \u001b[0;32min\u001b[0m \u001b[0maxes\u001b[0m\u001b[0;34m.\u001b[0m\u001b[0mitems\u001b[0m\u001b[0;34m(\u001b[0m\u001b[0;34m)\u001b[0m\u001b[0;34m:\u001b[0m\u001b[0;34m\u001b[0m\u001b[0;34m\u001b[0m\u001b[0m\n\u001b[1;32m   4149\u001b[0m             \u001b[0;32mif\u001b[0m \u001b[0mlabels\u001b[0m \u001b[0;32mis\u001b[0m \u001b[0;32mnot\u001b[0m \u001b[0;32mNone\u001b[0m\u001b[0;34m:\u001b[0m\u001b[0;34m\u001b[0m\u001b[0;34m\u001b[0m\u001b[0m\n\u001b[0;32m-> 4150\u001b[0;31m                 \u001b[0mobj\u001b[0m \u001b[0;34m=\u001b[0m \u001b[0mobj\u001b[0m\u001b[0;34m.\u001b[0m\u001b[0m_drop_axis\u001b[0m\u001b[0;34m(\u001b[0m\u001b[0mlabels\u001b[0m\u001b[0;34m,\u001b[0m \u001b[0maxis\u001b[0m\u001b[0;34m,\u001b[0m \u001b[0mlevel\u001b[0m\u001b[0;34m=\u001b[0m\u001b[0mlevel\u001b[0m\u001b[0;34m,\u001b[0m \u001b[0merrors\u001b[0m\u001b[0;34m=\u001b[0m\u001b[0merrors\u001b[0m\u001b[0;34m)\u001b[0m\u001b[0;34m\u001b[0m\u001b[0;34m\u001b[0m\u001b[0m\n\u001b[0m\u001b[1;32m   4151\u001b[0m \u001b[0;34m\u001b[0m\u001b[0m\n\u001b[1;32m   4152\u001b[0m         \u001b[0;32mif\u001b[0m \u001b[0minplace\u001b[0m\u001b[0;34m:\u001b[0m\u001b[0;34m\u001b[0m\u001b[0;34m\u001b[0m\u001b[0m\n",
      "\u001b[0;32m~/opt/anaconda3/lib/python3.9/site-packages/pandas/core/generic.py\u001b[0m in \u001b[0;36m_drop_axis\u001b[0;34m(self, labels, axis, level, errors)\u001b[0m\n\u001b[1;32m   4183\u001b[0m                 \u001b[0mnew_axis\u001b[0m \u001b[0;34m=\u001b[0m \u001b[0maxis\u001b[0m\u001b[0;34m.\u001b[0m\u001b[0mdrop\u001b[0m\u001b[0;34m(\u001b[0m\u001b[0mlabels\u001b[0m\u001b[0;34m,\u001b[0m \u001b[0mlevel\u001b[0m\u001b[0;34m=\u001b[0m\u001b[0mlevel\u001b[0m\u001b[0;34m,\u001b[0m \u001b[0merrors\u001b[0m\u001b[0;34m=\u001b[0m\u001b[0merrors\u001b[0m\u001b[0;34m)\u001b[0m\u001b[0;34m\u001b[0m\u001b[0;34m\u001b[0m\u001b[0m\n\u001b[1;32m   4184\u001b[0m             \u001b[0;32melse\u001b[0m\u001b[0;34m:\u001b[0m\u001b[0;34m\u001b[0m\u001b[0;34m\u001b[0m\u001b[0m\n\u001b[0;32m-> 4185\u001b[0;31m                 \u001b[0mnew_axis\u001b[0m \u001b[0;34m=\u001b[0m \u001b[0maxis\u001b[0m\u001b[0;34m.\u001b[0m\u001b[0mdrop\u001b[0m\u001b[0;34m(\u001b[0m\u001b[0mlabels\u001b[0m\u001b[0;34m,\u001b[0m \u001b[0merrors\u001b[0m\u001b[0;34m=\u001b[0m\u001b[0merrors\u001b[0m\u001b[0;34m)\u001b[0m\u001b[0;34m\u001b[0m\u001b[0;34m\u001b[0m\u001b[0m\n\u001b[0m\u001b[1;32m   4186\u001b[0m             \u001b[0mresult\u001b[0m \u001b[0;34m=\u001b[0m \u001b[0mself\u001b[0m\u001b[0;34m.\u001b[0m\u001b[0mreindex\u001b[0m\u001b[0;34m(\u001b[0m\u001b[0;34m**\u001b[0m\u001b[0;34m{\u001b[0m\u001b[0maxis_name\u001b[0m\u001b[0;34m:\u001b[0m \u001b[0mnew_axis\u001b[0m\u001b[0;34m}\u001b[0m\u001b[0;34m)\u001b[0m\u001b[0;34m\u001b[0m\u001b[0;34m\u001b[0m\u001b[0m\n\u001b[1;32m   4187\u001b[0m \u001b[0;34m\u001b[0m\u001b[0m\n",
      "\u001b[0;32m~/opt/anaconda3/lib/python3.9/site-packages/pandas/core/indexes/base.py\u001b[0m in \u001b[0;36mdrop\u001b[0;34m(self, labels, errors)\u001b[0m\n\u001b[1;32m   6015\u001b[0m         \u001b[0;32mif\u001b[0m \u001b[0mmask\u001b[0m\u001b[0;34m.\u001b[0m\u001b[0many\u001b[0m\u001b[0;34m(\u001b[0m\u001b[0;34m)\u001b[0m\u001b[0;34m:\u001b[0m\u001b[0;34m\u001b[0m\u001b[0;34m\u001b[0m\u001b[0m\n\u001b[1;32m   6016\u001b[0m             \u001b[0;32mif\u001b[0m \u001b[0merrors\u001b[0m \u001b[0;34m!=\u001b[0m \u001b[0;34m\"ignore\"\u001b[0m\u001b[0;34m:\u001b[0m\u001b[0;34m\u001b[0m\u001b[0;34m\u001b[0m\u001b[0m\n\u001b[0;32m-> 6017\u001b[0;31m                 \u001b[0;32mraise\u001b[0m \u001b[0mKeyError\u001b[0m\u001b[0;34m(\u001b[0m\u001b[0;34mf\"{labels[mask]} not found in axis\"\u001b[0m\u001b[0;34m)\u001b[0m\u001b[0;34m\u001b[0m\u001b[0;34m\u001b[0m\u001b[0m\n\u001b[0m\u001b[1;32m   6018\u001b[0m             \u001b[0mindexer\u001b[0m \u001b[0;34m=\u001b[0m \u001b[0mindexer\u001b[0m\u001b[0;34m[\u001b[0m\u001b[0;34m~\u001b[0m\u001b[0mmask\u001b[0m\u001b[0;34m]\u001b[0m\u001b[0;34m\u001b[0m\u001b[0;34m\u001b[0m\u001b[0m\n\u001b[1;32m   6019\u001b[0m         \u001b[0;32mreturn\u001b[0m \u001b[0mself\u001b[0m\u001b[0;34m.\u001b[0m\u001b[0mdelete\u001b[0m\u001b[0;34m(\u001b[0m\u001b[0mindexer\u001b[0m\u001b[0;34m)\u001b[0m\u001b[0;34m\u001b[0m\u001b[0;34m\u001b[0m\u001b[0m\n",
      "\u001b[0;31mKeyError\u001b[0m: \"['FN' 'Active'] not found in axis\""
     ]
    }
   ],
   "source": [
    "result = result.drop(['FN','Active'],axis=1)"
   ]
  },
  {
   "cell_type": "code",
   "execution_count": null,
   "id": "e06a03d6",
   "metadata": {},
   "outputs": [],
   "source": [
    "result.fillna({\"club_member_status\":'No','fashion_news_frequency':'None'},inplace=True)"
   ]
  },
  {
   "cell_type": "code",
   "execution_count": null,
   "id": "170ac829",
   "metadata": {},
   "outputs": [],
   "source": [
    "result.isna().sum()"
   ]
  },
  {
   "cell_type": "code",
   "execution_count": null,
   "id": "c7e72eae",
   "metadata": {},
   "outputs": [],
   "source": [
    "#Age has 23% of missing value, so we are imputing the missing value with median."
   ]
  },
  {
   "cell_type": "code",
   "execution_count": null,
   "id": "8b4744de",
   "metadata": {},
   "outputs": [],
   "source": [
    "result = result.fillna({'age': result['age'].median()})"
   ]
  },
  {
   "cell_type": "code",
   "execution_count": null,
   "id": "561cced2",
   "metadata": {},
   "outputs": [],
   "source": [
    "#Handling Datatypes"
   ]
  },
  {
   "cell_type": "code",
   "execution_count": null,
   "id": "89783ec3",
   "metadata": {},
   "outputs": [],
   "source": [
    "# Handling Data Types\n",
    "# t_dat is representing date column, but the datatype is object.\n",
    "# So, converted into datetime datatype "
   ]
  },
  {
   "cell_type": "code",
   "execution_count": 72,
   "id": "076c854c",
   "metadata": {},
   "outputs": [],
   "source": [
    "result['t_dat'] = pd.to_datetime(result['t_dat'],format='%Y-%m-%d')"
   ]
  },
  {
   "cell_type": "code",
   "execution_count": 73,
   "id": "29477096",
   "metadata": {},
   "outputs": [
    {
     "name": "stdout",
     "output_type": "stream",
     "text": [
      "<class 'pandas.core.frame.DataFrame'>\n",
      "Int64Index: 31788324 entries, 0 to 31788323\n",
      "Data columns (total 8 columns):\n",
      " #   Column                  Dtype         \n",
      "---  ------                  -----         \n",
      " 0   t_dat                   datetime64[ns]\n",
      " 1   customer_id             object        \n",
      " 2   price                   float64       \n",
      " 3   sales_channel_id        int64         \n",
      " 4   club_member_status      object        \n",
      " 5   fashion_news_frequency  object        \n",
      " 6   age                     float64       \n",
      " 7   postal_code             object        \n",
      "dtypes: datetime64[ns](1), float64(2), int64(1), object(4)\n",
      "memory usage: 2.1+ GB\n"
     ]
    }
   ],
   "source": [
    "result.info()"
   ]
  },
  {
   "cell_type": "code",
   "execution_count": 74,
   "id": "0ba6d335",
   "metadata": {},
   "outputs": [],
   "source": [
    "## Outliers (Incomplete)"
   ]
  },
  {
   "cell_type": "code",
   "execution_count": 75,
   "id": "e0d150e1",
   "metadata": {},
   "outputs": [
    {
     "name": "stdout",
     "output_type": "stream",
     "text": [
      "price                0.018068\n",
      "sales_channel_id     1.000000\n",
      "age                 22.000000\n",
      "dtype: float64\n"
     ]
    }
   ],
   "source": [
    "Q1 = result.quantile(0.25)\n",
    "Q3 = result.quantile(0.75)\n",
    "IQR = Q3 - Q1\n",
    "print(IQR)"
   ]
  },
  {
   "cell_type": "code",
   "execution_count": 76,
   "id": "3501c87b",
   "metadata": {},
   "outputs": [
    {
     "data": {
      "text/plain": [
       "<AxesSubplot:xlabel='age'>"
      ]
     },
     "execution_count": 76,
     "metadata": {},
     "output_type": "execute_result"
    },
    {
     "data": {
      "image/png": "[encoded data removed]",
      "text/plain": [
       "<Figure size 432x288 with 1 Axes>"
      ]
     },
     "metadata": {
      "needs_background": "light"
     },
     "output_type": "display_data"
    }
   ],
   "source": [
    "sns.boxplot(x=result['age'])"
   ]
  },
  {
   "cell_type": "markdown",
   "id": "d4b497f7",
   "metadata": {},
   "source": [
    "Label encoder\n",
    "\n",
    "The customer ids are in the form of alphanumeric values. Coverting it in numerical form for easilt understanding"
   ]
  },
  {
   "cell_type": "code",
   "execution_count": 77,
   "id": "3d39d719",
   "metadata": {},
   "outputs": [],
   "source": [
    "from sklearn.preprocessing import LabelEncoder\n",
    "x = LabelEncoder()\n",
    "result['customer_id'] = x.fit_transform(result['customer_id'])"
   ]
  },
  {
   "cell_type": "code",
   "execution_count": 78,
   "id": "cc02b8b9",
   "metadata": {},
   "outputs": [
    {
     "data": {
      "text/html": [
       "<div>\n",
       "<style scoped>\n",
       "    .dataframe tbody tr th:only-of-type {\n",
       "        vertical-align: middle;\n",
       "    }\n",
       "\n",
       "    .dataframe tbody tr th {\n",
       "        vertical-align: top;\n",
       "    }\n",
       "\n",
       "    .dataframe thead th {\n",
       "        text-align: right;\n",
       "    }\n",
       "</style>\n",
       "<table border=\"1\" class=\"dataframe\">\n",
       "  <thead>\n",
       "    <tr style=\"text-align: right;\">\n",
       "      <th></th>\n",
       "      <th>t_dat</th>\n",
       "      <th>customer_id</th>\n",
       "      <th>price</th>\n",
       "      <th>sales_channel_id</th>\n",
       "      <th>club_member_status</th>\n",
       "      <th>fashion_news_frequency</th>\n",
       "      <th>age</th>\n",
       "      <th>postal_code</th>\n",
       "    </tr>\n",
       "  </thead>\n",
       "  <tbody>\n",
       "    <tr>\n",
       "      <th>0</th>\n",
       "      <td>2018-09-20</td>\n",
       "      <td>2</td>\n",
       "      <td>0.050831</td>\n",
       "      <td>2</td>\n",
       "      <td>ACTIVE</td>\n",
       "      <td>NONE</td>\n",
       "      <td>24.0</td>\n",
       "      <td>64f17e6a330a85798e4998f62d0930d14db8db1c054af6...</td>\n",
       "    </tr>\n",
       "    <tr>\n",
       "      <th>1</th>\n",
       "      <td>2018-09-20</td>\n",
       "      <td>2</td>\n",
       "      <td>0.030492</td>\n",
       "      <td>2</td>\n",
       "      <td>ACTIVE</td>\n",
       "      <td>NONE</td>\n",
       "      <td>24.0</td>\n",
       "      <td>64f17e6a330a85798e4998f62d0930d14db8db1c054af6...</td>\n",
       "    </tr>\n",
       "    <tr>\n",
       "      <th>2</th>\n",
       "      <td>2018-09-20</td>\n",
       "      <td>7</td>\n",
       "      <td>0.015237</td>\n",
       "      <td>2</td>\n",
       "      <td>ACTIVE</td>\n",
       "      <td>Regularly</td>\n",
       "      <td>32.0</td>\n",
       "      <td>8d6f45050876d059c830a0fe63f1a4c022de279bb68ce3...</td>\n",
       "    </tr>\n",
       "    <tr>\n",
       "      <th>3</th>\n",
       "      <td>2018-09-20</td>\n",
       "      <td>7</td>\n",
       "      <td>0.016932</td>\n",
       "      <td>2</td>\n",
       "      <td>ACTIVE</td>\n",
       "      <td>Regularly</td>\n",
       "      <td>32.0</td>\n",
       "      <td>8d6f45050876d059c830a0fe63f1a4c022de279bb68ce3...</td>\n",
       "    </tr>\n",
       "    <tr>\n",
       "      <th>4</th>\n",
       "      <td>2018-09-20</td>\n",
       "      <td>7</td>\n",
       "      <td>0.016932</td>\n",
       "      <td>2</td>\n",
       "      <td>ACTIVE</td>\n",
       "      <td>Regularly</td>\n",
       "      <td>32.0</td>\n",
       "      <td>8d6f45050876d059c830a0fe63f1a4c022de279bb68ce3...</td>\n",
       "    </tr>\n",
       "    <tr>\n",
       "      <th>...</th>\n",
       "      <td>...</td>\n",
       "      <td>...</td>\n",
       "      <td>...</td>\n",
       "      <td>...</td>\n",
       "      <td>...</td>\n",
       "      <td>...</td>\n",
       "      <td>...</td>\n",
       "      <td>...</td>\n",
       "    </tr>\n",
       "    <tr>\n",
       "      <th>31788319</th>\n",
       "      <td>2020-09-22</td>\n",
       "      <td>1361995</td>\n",
       "      <td>0.059305</td>\n",
       "      <td>2</td>\n",
       "      <td>ACTIVE</td>\n",
       "      <td>Regularly</td>\n",
       "      <td>32.0</td>\n",
       "      <td>2695d7727a61ed8011f93de47dc9445017596302bd0592...</td>\n",
       "    </tr>\n",
       "    <tr>\n",
       "      <th>31788320</th>\n",
       "      <td>2020-09-22</td>\n",
       "      <td>1361995</td>\n",
       "      <td>0.042356</td>\n",
       "      <td>2</td>\n",
       "      <td>ACTIVE</td>\n",
       "      <td>Regularly</td>\n",
       "      <td>32.0</td>\n",
       "      <td>2695d7727a61ed8011f93de47dc9445017596302bd0592...</td>\n",
       "    </tr>\n",
       "    <tr>\n",
       "      <th>31788321</th>\n",
       "      <td>2020-09-22</td>\n",
       "      <td>1362025</td>\n",
       "      <td>0.043203</td>\n",
       "      <td>1</td>\n",
       "      <td>ACTIVE</td>\n",
       "      <td>NONE</td>\n",
       "      <td>67.0</td>\n",
       "      <td>a9c9c4db44316f6e62ea17ba5e8b84c1ec3ebeddb3f299...</td>\n",
       "    </tr>\n",
       "    <tr>\n",
       "      <th>31788322</th>\n",
       "      <td>2020-09-22</td>\n",
       "      <td>1362050</td>\n",
       "      <td>0.006763</td>\n",
       "      <td>1</td>\n",
       "      <td>ACTIVE</td>\n",
       "      <td>Regularly</td>\n",
       "      <td>21.0</td>\n",
       "      <td>3737324e2574c3bde9ef00336bc767781dbed7e828d51a...</td>\n",
       "    </tr>\n",
       "    <tr>\n",
       "      <th>31788323</th>\n",
       "      <td>2020-09-22</td>\n",
       "      <td>1362262</td>\n",
       "      <td>0.033881</td>\n",
       "      <td>2</td>\n",
       "      <td>ACTIVE</td>\n",
       "      <td>Regularly</td>\n",
       "      <td>29.0</td>\n",
       "      <td>47258851e6f73dd2583ef4775814f9b88e43a9e2741c64...</td>\n",
       "    </tr>\n",
       "  </tbody>\n",
       "</table>\n",
       "<p>31788324 rows × 8 columns</p>\n",
       "</div>"
      ],
      "text/plain": [
       "              t_dat  customer_id     price  sales_channel_id  \\\n",
       "0        2018-09-20            2  0.050831                 2   \n",
       "1        2018-09-20            2  0.030492                 2   \n",
       "2        2018-09-20            7  0.015237                 2   \n",
       "3        2018-09-20            7  0.016932                 2   \n",
       "4        2018-09-20            7  0.016932                 2   \n",
       "...             ...          ...       ...               ...   \n",
       "31788319 2020-09-22      1361995  0.059305                 2   \n",
       "31788320 2020-09-22      1361995  0.042356                 2   \n",
       "31788321 2020-09-22      1362025  0.043203                 1   \n",
       "31788322 2020-09-22      1362050  0.006763                 1   \n",
       "31788323 2020-09-22      1362262  0.033881                 2   \n",
       "\n",
       "         club_member_status fashion_news_frequency   age  \\\n",
       "0                    ACTIVE                   NONE  24.0   \n",
       "1                    ACTIVE                   NONE  24.0   \n",
       "2                    ACTIVE              Regularly  32.0   \n",
       "3                    ACTIVE              Regularly  32.0   \n",
       "4                    ACTIVE              Regularly  32.0   \n",
       "...                     ...                    ...   ...   \n",
       "31788319             ACTIVE              Regularly  32.0   \n",
       "31788320             ACTIVE              Regularly  32.0   \n",
       "31788321             ACTIVE                   NONE  67.0   \n",
       "31788322             ACTIVE              Regularly  21.0   \n",
       "31788323             ACTIVE              Regularly  29.0   \n",
       "\n",
       "                                                postal_code  \n",
       "0         64f17e6a330a85798e4998f62d0930d14db8db1c054af6...  \n",
       "1         64f17e6a330a85798e4998f62d0930d14db8db1c054af6...  \n",
       "2         8d6f45050876d059c830a0fe63f1a4c022de279bb68ce3...  \n",
       "3         8d6f45050876d059c830a0fe63f1a4c022de279bb68ce3...  \n",
       "4         8d6f45050876d059c830a0fe63f1a4c022de279bb68ce3...  \n",
       "...                                                     ...  \n",
       "31788319  2695d7727a61ed8011f93de47dc9445017596302bd0592...  \n",
       "31788320  2695d7727a61ed8011f93de47dc9445017596302bd0592...  \n",
       "31788321  a9c9c4db44316f6e62ea17ba5e8b84c1ec3ebeddb3f299...  \n",
       "31788322  3737324e2574c3bde9ef00336bc767781dbed7e828d51a...  \n",
       "31788323  47258851e6f73dd2583ef4775814f9b88e43a9e2741c64...  \n",
       "\n",
       "[31788324 rows x 8 columns]"
      ]
     },
     "execution_count": 78,
     "metadata": {},
     "output_type": "execute_result"
    }
   ],
   "source": [
    "result"
   ]
  },
  {
   "cell_type": "code",
   "execution_count": 79,
   "id": "e1a19ba6",
   "metadata": {},
   "outputs": [],
   "source": [
    "#We have 1362281 unique customers as shown below"
   ]
  },
  {
   "cell_type": "code",
   "execution_count": 80,
   "id": "4d7e19a1",
   "metadata": {},
   "outputs": [
    {
     "data": {
      "text/plain": [
       "1362281"
      ]
     },
     "execution_count": 80,
     "metadata": {},
     "output_type": "execute_result"
    }
   ],
   "source": [
    "len(result['customer_id'].unique())"
   ]
  },
  {
   "cell_type": "code",
   "execution_count": 81,
   "id": "4eff7beb",
   "metadata": {},
   "outputs": [],
   "source": [
    "#first purchase of each unique customer"
   ]
  },
  {
   "cell_type": "code",
   "execution_count": 82,
   "id": "7607159b",
   "metadata": {},
   "outputs": [],
   "source": [
    "first_purchase = result.sort_values(['t_dat']).groupby('customer_id').first()"
   ]
  },
  {
   "cell_type": "code",
   "execution_count": 83,
   "id": "3c719d89",
   "metadata": {},
   "outputs": [
    {
     "data": {
      "text/html": [
       "<div>\n",
       "<style scoped>\n",
       "    .dataframe tbody tr th:only-of-type {\n",
       "        vertical-align: middle;\n",
       "    }\n",
       "\n",
       "    .dataframe tbody tr th {\n",
       "        vertical-align: top;\n",
       "    }\n",
       "\n",
       "    .dataframe thead th {\n",
       "        text-align: right;\n",
       "    }\n",
       "</style>\n",
       "<table border=\"1\" class=\"dataframe\">\n",
       "  <thead>\n",
       "    <tr style=\"text-align: right;\">\n",
       "      <th></th>\n",
       "      <th>t_dat</th>\n",
       "      <th>price</th>\n",
       "      <th>sales_channel_id</th>\n",
       "      <th>club_member_status</th>\n",
       "      <th>fashion_news_frequency</th>\n",
       "      <th>age</th>\n",
       "      <th>postal_code</th>\n",
       "    </tr>\n",
       "    <tr>\n",
       "      <th>customer_id</th>\n",
       "      <th></th>\n",
       "      <th></th>\n",
       "      <th></th>\n",
       "      <th></th>\n",
       "      <th></th>\n",
       "      <th></th>\n",
       "      <th></th>\n",
       "    </tr>\n",
       "  </thead>\n",
       "  <tbody>\n",
       "    <tr>\n",
       "      <th>0</th>\n",
       "      <td>2018-12-27</td>\n",
       "      <td>0.044051</td>\n",
       "      <td>1</td>\n",
       "      <td>ACTIVE</td>\n",
       "      <td>NONE</td>\n",
       "      <td>49.0</td>\n",
       "      <td>52043ee2162cf5aa7ee79974281641c6f11a68d276429a...</td>\n",
       "    </tr>\n",
       "    <tr>\n",
       "      <th>1</th>\n",
       "      <td>2018-09-21</td>\n",
       "      <td>0.067780</td>\n",
       "      <td>2</td>\n",
       "      <td>ACTIVE</td>\n",
       "      <td>NONE</td>\n",
       "      <td>25.0</td>\n",
       "      <td>2973abc54daa8a5f8ccfe9362140c63247c5eee03f1d93...</td>\n",
       "    </tr>\n",
       "    <tr>\n",
       "      <th>2</th>\n",
       "      <td>2018-09-20</td>\n",
       "      <td>0.050831</td>\n",
       "      <td>2</td>\n",
       "      <td>ACTIVE</td>\n",
       "      <td>NONE</td>\n",
       "      <td>24.0</td>\n",
       "      <td>64f17e6a330a85798e4998f62d0930d14db8db1c054af6...</td>\n",
       "    </tr>\n",
       "    <tr>\n",
       "      <th>3</th>\n",
       "      <td>2019-06-09</td>\n",
       "      <td>0.030492</td>\n",
       "      <td>2</td>\n",
       "      <td>ACTIVE</td>\n",
       "      <td>NONE</td>\n",
       "      <td>54.0</td>\n",
       "      <td>5d36574f52495e81f019b680c843c443bd343d5ca5b1c2...</td>\n",
       "    </tr>\n",
       "    <tr>\n",
       "      <th>4</th>\n",
       "      <td>2018-10-12</td>\n",
       "      <td>0.027102</td>\n",
       "      <td>1</td>\n",
       "      <td>ACTIVE</td>\n",
       "      <td>Regularly</td>\n",
       "      <td>52.0</td>\n",
       "      <td>25fa5ddee9aac01b35208d01736e57942317d756b32ddd...</td>\n",
       "    </tr>\n",
       "    <tr>\n",
       "      <th>...</th>\n",
       "      <td>...</td>\n",
       "      <td>...</td>\n",
       "      <td>...</td>\n",
       "      <td>...</td>\n",
       "      <td>...</td>\n",
       "      <td>...</td>\n",
       "      <td>...</td>\n",
       "    </tr>\n",
       "    <tr>\n",
       "      <th>1362276</th>\n",
       "      <td>2019-04-03</td>\n",
       "      <td>0.050831</td>\n",
       "      <td>2</td>\n",
       "      <td>ACTIVE</td>\n",
       "      <td>NONE</td>\n",
       "      <td>24.0</td>\n",
       "      <td>7aa399f7e669990daba2d92c577b52237380662f36480b...</td>\n",
       "    </tr>\n",
       "    <tr>\n",
       "      <th>1362277</th>\n",
       "      <td>2018-09-25</td>\n",
       "      <td>0.064390</td>\n",
       "      <td>1</td>\n",
       "      <td>ACTIVE</td>\n",
       "      <td>NONE</td>\n",
       "      <td>21.0</td>\n",
       "      <td>3f47f1279beb72215f4de557d950e0bfa73789d24acb5e...</td>\n",
       "    </tr>\n",
       "    <tr>\n",
       "      <th>1362278</th>\n",
       "      <td>2018-09-20</td>\n",
       "      <td>0.042356</td>\n",
       "      <td>1</td>\n",
       "      <td>ACTIVE</td>\n",
       "      <td>Regularly</td>\n",
       "      <td>21.0</td>\n",
       "      <td>4563fc79215672cd6a863f2b4bf56b8f898f2d96ed590e...</td>\n",
       "    </tr>\n",
       "    <tr>\n",
       "      <th>1362279</th>\n",
       "      <td>2020-04-05</td>\n",
       "      <td>0.042356</td>\n",
       "      <td>2</td>\n",
       "      <td>ACTIVE</td>\n",
       "      <td>Regularly</td>\n",
       "      <td>18.0</td>\n",
       "      <td>8892c18e9bc3dca6aa4000cb8094fc4b51ee8db2ed14d7...</td>\n",
       "    </tr>\n",
       "    <tr>\n",
       "      <th>1362280</th>\n",
       "      <td>2019-12-04</td>\n",
       "      <td>0.084729</td>\n",
       "      <td>2</td>\n",
       "      <td>PRE-CREATE</td>\n",
       "      <td>NONE</td>\n",
       "      <td>65.0</td>\n",
       "      <td>0a1a03306fb2f62164c2a439b38c0caa64b40deaae8687...</td>\n",
       "    </tr>\n",
       "  </tbody>\n",
       "</table>\n",
       "<p>1362281 rows × 7 columns</p>\n",
       "</div>"
      ],
      "text/plain": [
       "                 t_dat     price  sales_channel_id club_member_status  \\\n",
       "customer_id                                                             \n",
       "0           2018-12-27  0.044051                 1             ACTIVE   \n",
       "1           2018-09-21  0.067780                 2             ACTIVE   \n",
       "2           2018-09-20  0.050831                 2             ACTIVE   \n",
       "3           2019-06-09  0.030492                 2             ACTIVE   \n",
       "4           2018-10-12  0.027102                 1             ACTIVE   \n",
       "...                ...       ...               ...                ...   \n",
       "1362276     2019-04-03  0.050831                 2             ACTIVE   \n",
       "1362277     2018-09-25  0.064390                 1             ACTIVE   \n",
       "1362278     2018-09-20  0.042356                 1             ACTIVE   \n",
       "1362279     2020-04-05  0.042356                 2             ACTIVE   \n",
       "1362280     2019-12-04  0.084729                 2         PRE-CREATE   \n",
       "\n",
       "            fashion_news_frequency   age  \\\n",
       "customer_id                                \n",
       "0                             NONE  49.0   \n",
       "1                             NONE  25.0   \n",
       "2                             NONE  24.0   \n",
       "3                             NONE  54.0   \n",
       "4                        Regularly  52.0   \n",
       "...                            ...   ...   \n",
       "1362276                       NONE  24.0   \n",
       "1362277                       NONE  21.0   \n",
       "1362278                  Regularly  21.0   \n",
       "1362279                  Regularly  18.0   \n",
       "1362280                       NONE  65.0   \n",
       "\n",
       "                                                   postal_code  \n",
       "customer_id                                                     \n",
       "0            52043ee2162cf5aa7ee79974281641c6f11a68d276429a...  \n",
       "1            2973abc54daa8a5f8ccfe9362140c63247c5eee03f1d93...  \n",
       "2            64f17e6a330a85798e4998f62d0930d14db8db1c054af6...  \n",
       "3            5d36574f52495e81f019b680c843c443bd343d5ca5b1c2...  \n",
       "4            25fa5ddee9aac01b35208d01736e57942317d756b32ddd...  \n",
       "...                                                        ...  \n",
       "1362276      7aa399f7e669990daba2d92c577b52237380662f36480b...  \n",
       "1362277      3f47f1279beb72215f4de557d950e0bfa73789d24acb5e...  \n",
       "1362278      4563fc79215672cd6a863f2b4bf56b8f898f2d96ed590e...  \n",
       "1362279      8892c18e9bc3dca6aa4000cb8094fc4b51ee8db2ed14d7...  \n",
       "1362280      0a1a03306fb2f62164c2a439b38c0caa64b40deaae8687...  \n",
       "\n",
       "[1362281 rows x 7 columns]"
      ]
     },
     "execution_count": 83,
     "metadata": {},
     "output_type": "execute_result"
    }
   ],
   "source": [
    "first_purchase"
   ]
  },
  {
   "cell_type": "code",
   "execution_count": 84,
   "id": "3cc57de9",
   "metadata": {},
   "outputs": [
    {
     "data": {
      "text/plain": [
       "Timestamp('2018-09-20 00:00:00')"
      ]
     },
     "execution_count": 84,
     "metadata": {},
     "output_type": "execute_result"
    }
   ],
   "source": [
    "first_purchase['t_dat'].min()"
   ]
  },
  {
   "cell_type": "code",
   "execution_count": 85,
   "id": "71c3f64b",
   "metadata": {},
   "outputs": [
    {
     "data": {
      "text/plain": [
       "Timestamp('2020-09-22 00:00:00')"
      ]
     },
     "execution_count": 85,
     "metadata": {},
     "output_type": "execute_result"
    }
   ],
   "source": [
    "first_purchase['t_dat'].max()"
   ]
  },
  {
   "cell_type": "code",
   "execution_count": 86,
   "id": "f6763bb6",
   "metadata": {},
   "outputs": [],
   "source": [
    "#Splitting the time based on before and after"
   ]
  },
  {
   "cell_type": "code",
   "execution_count": 87,
   "id": "dc9bb253",
   "metadata": {},
   "outputs": [],
   "source": [
    "dayss = 90\n",
    "max_date_total = result['t_dat'].max()\n",
    "cutoff = max_date_total - pd.to_timedelta(dayss,unit='d')"
   ]
  },
  {
   "cell_type": "code",
   "execution_count": 88,
   "id": "f3c0293c",
   "metadata": {},
   "outputs": [
    {
     "name": "stdout",
     "output_type": "stream",
     "text": [
      "2020-06-24 00:00:00\n",
      "2020-09-22 00:00:00\n"
     ]
    }
   ],
   "source": [
    "print(cutoff)\n",
    "print(max_date_total)"
   ]
  },
  {
   "cell_type": "code",
   "execution_count": 89,
   "id": "152e652d",
   "metadata": {},
   "outputs": [],
   "source": [
    "data_before = result[result[\"t_dat\"]<=cutoff]"
   ]
  },
  {
   "cell_type": "code",
   "execution_count": 90,
   "id": "6186c505",
   "metadata": {},
   "outputs": [],
   "source": [
    "data_after = result[result[\"t_dat\"]>cutoff]"
   ]
  },
  {
   "cell_type": "code",
   "execution_count": 91,
   "id": "dceba147",
   "metadata": {},
   "outputs": [
    {
     "data": {
      "text/html": [
       "<div>\n",
       "<style scoped>\n",
       "    .dataframe tbody tr th:only-of-type {\n",
       "        vertical-align: middle;\n",
       "    }\n",
       "\n",
       "    .dataframe tbody tr th {\n",
       "        vertical-align: top;\n",
       "    }\n",
       "\n",
       "    .dataframe thead th {\n",
       "        text-align: right;\n",
       "    }\n",
       "</style>\n",
       "<table border=\"1\" class=\"dataframe\">\n",
       "  <thead>\n",
       "    <tr style=\"text-align: right;\">\n",
       "      <th></th>\n",
       "      <th>t_dat</th>\n",
       "      <th>customer_id</th>\n",
       "      <th>price</th>\n",
       "      <th>sales_channel_id</th>\n",
       "      <th>club_member_status</th>\n",
       "      <th>fashion_news_frequency</th>\n",
       "      <th>age</th>\n",
       "      <th>postal_code</th>\n",
       "    </tr>\n",
       "  </thead>\n",
       "  <tbody>\n",
       "    <tr>\n",
       "      <th>0</th>\n",
       "      <td>2018-09-20</td>\n",
       "      <td>2</td>\n",
       "      <td>0.050831</td>\n",
       "      <td>2</td>\n",
       "      <td>ACTIVE</td>\n",
       "      <td>NONE</td>\n",
       "      <td>24.0</td>\n",
       "      <td>64f17e6a330a85798e4998f62d0930d14db8db1c054af6...</td>\n",
       "    </tr>\n",
       "    <tr>\n",
       "      <th>1</th>\n",
       "      <td>2018-09-20</td>\n",
       "      <td>2</td>\n",
       "      <td>0.030492</td>\n",
       "      <td>2</td>\n",
       "      <td>ACTIVE</td>\n",
       "      <td>NONE</td>\n",
       "      <td>24.0</td>\n",
       "      <td>64f17e6a330a85798e4998f62d0930d14db8db1c054af6...</td>\n",
       "    </tr>\n",
       "    <tr>\n",
       "      <th>2</th>\n",
       "      <td>2018-09-20</td>\n",
       "      <td>7</td>\n",
       "      <td>0.015237</td>\n",
       "      <td>2</td>\n",
       "      <td>ACTIVE</td>\n",
       "      <td>Regularly</td>\n",
       "      <td>32.0</td>\n",
       "      <td>8d6f45050876d059c830a0fe63f1a4c022de279bb68ce3...</td>\n",
       "    </tr>\n",
       "    <tr>\n",
       "      <th>3</th>\n",
       "      <td>2018-09-20</td>\n",
       "      <td>7</td>\n",
       "      <td>0.016932</td>\n",
       "      <td>2</td>\n",
       "      <td>ACTIVE</td>\n",
       "      <td>Regularly</td>\n",
       "      <td>32.0</td>\n",
       "      <td>8d6f45050876d059c830a0fe63f1a4c022de279bb68ce3...</td>\n",
       "    </tr>\n",
       "    <tr>\n",
       "      <th>4</th>\n",
       "      <td>2018-09-20</td>\n",
       "      <td>7</td>\n",
       "      <td>0.016932</td>\n",
       "      <td>2</td>\n",
       "      <td>ACTIVE</td>\n",
       "      <td>Regularly</td>\n",
       "      <td>32.0</td>\n",
       "      <td>8d6f45050876d059c830a0fe63f1a4c022de279bb68ce3...</td>\n",
       "    </tr>\n",
       "    <tr>\n",
       "      <th>...</th>\n",
       "      <td>...</td>\n",
       "      <td>...</td>\n",
       "      <td>...</td>\n",
       "      <td>...</td>\n",
       "      <td>...</td>\n",
       "      <td>...</td>\n",
       "      <td>...</td>\n",
       "      <td>...</td>\n",
       "    </tr>\n",
       "    <tr>\n",
       "      <th>27982718</th>\n",
       "      <td>2020-06-24</td>\n",
       "      <td>1362251</td>\n",
       "      <td>0.024390</td>\n",
       "      <td>2</td>\n",
       "      <td>ACTIVE</td>\n",
       "      <td>Regularly</td>\n",
       "      <td>55.0</td>\n",
       "      <td>6cffe743cea040fddb93a098579cf73fd7a137a913850a...</td>\n",
       "    </tr>\n",
       "    <tr>\n",
       "      <th>27982719</th>\n",
       "      <td>2020-06-24</td>\n",
       "      <td>1362251</td>\n",
       "      <td>0.017610</td>\n",
       "      <td>2</td>\n",
       "      <td>ACTIVE</td>\n",
       "      <td>Regularly</td>\n",
       "      <td>55.0</td>\n",
       "      <td>6cffe743cea040fddb93a098579cf73fd7a137a913850a...</td>\n",
       "    </tr>\n",
       "    <tr>\n",
       "      <th>27982720</th>\n",
       "      <td>2020-06-24</td>\n",
       "      <td>1362251</td>\n",
       "      <td>0.013542</td>\n",
       "      <td>2</td>\n",
       "      <td>ACTIVE</td>\n",
       "      <td>Regularly</td>\n",
       "      <td>55.0</td>\n",
       "      <td>6cffe743cea040fddb93a098579cf73fd7a137a913850a...</td>\n",
       "    </tr>\n",
       "    <tr>\n",
       "      <th>27982721</th>\n",
       "      <td>2020-06-24</td>\n",
       "      <td>1362251</td>\n",
       "      <td>0.010831</td>\n",
       "      <td>2</td>\n",
       "      <td>ACTIVE</td>\n",
       "      <td>Regularly</td>\n",
       "      <td>55.0</td>\n",
       "      <td>6cffe743cea040fddb93a098579cf73fd7a137a913850a...</td>\n",
       "    </tr>\n",
       "    <tr>\n",
       "      <th>27982722</th>\n",
       "      <td>2020-06-24</td>\n",
       "      <td>1362251</td>\n",
       "      <td>0.005407</td>\n",
       "      <td>2</td>\n",
       "      <td>ACTIVE</td>\n",
       "      <td>Regularly</td>\n",
       "      <td>55.0</td>\n",
       "      <td>6cffe743cea040fddb93a098579cf73fd7a137a913850a...</td>\n",
       "    </tr>\n",
       "  </tbody>\n",
       "</table>\n",
       "<p>27982723 rows × 8 columns</p>\n",
       "</div>"
      ],
      "text/plain": [
       "              t_dat  customer_id     price  sales_channel_id  \\\n",
       "0        2018-09-20            2  0.050831                 2   \n",
       "1        2018-09-20            2  0.030492                 2   \n",
       "2        2018-09-20            7  0.015237                 2   \n",
       "3        2018-09-20            7  0.016932                 2   \n",
       "4        2018-09-20            7  0.016932                 2   \n",
       "...             ...          ...       ...               ...   \n",
       "27982718 2020-06-24      1362251  0.024390                 2   \n",
       "27982719 2020-06-24      1362251  0.017610                 2   \n",
       "27982720 2020-06-24      1362251  0.013542                 2   \n",
       "27982721 2020-06-24      1362251  0.010831                 2   \n",
       "27982722 2020-06-24      1362251  0.005407                 2   \n",
       "\n",
       "         club_member_status fashion_news_frequency   age  \\\n",
       "0                    ACTIVE                   NONE  24.0   \n",
       "1                    ACTIVE                   NONE  24.0   \n",
       "2                    ACTIVE              Regularly  32.0   \n",
       "3                    ACTIVE              Regularly  32.0   \n",
       "4                    ACTIVE              Regularly  32.0   \n",
       "...                     ...                    ...   ...   \n",
       "27982718             ACTIVE              Regularly  55.0   \n",
       "27982719             ACTIVE              Regularly  55.0   \n",
       "27982720             ACTIVE              Regularly  55.0   \n",
       "27982721             ACTIVE              Regularly  55.0   \n",
       "27982722             ACTIVE              Regularly  55.0   \n",
       "\n",
       "                                                postal_code  \n",
       "0         64f17e6a330a85798e4998f62d0930d14db8db1c054af6...  \n",
       "1         64f17e6a330a85798e4998f62d0930d14db8db1c054af6...  \n",
       "2         8d6f45050876d059c830a0fe63f1a4c022de279bb68ce3...  \n",
       "3         8d6f45050876d059c830a0fe63f1a4c022de279bb68ce3...  \n",
       "4         8d6f45050876d059c830a0fe63f1a4c022de279bb68ce3...  \n",
       "...                                                     ...  \n",
       "27982718  6cffe743cea040fddb93a098579cf73fd7a137a913850a...  \n",
       "27982719  6cffe743cea040fddb93a098579cf73fd7a137a913850a...  \n",
       "27982720  6cffe743cea040fddb93a098579cf73fd7a137a913850a...  \n",
       "27982721  6cffe743cea040fddb93a098579cf73fd7a137a913850a...  \n",
       "27982722  6cffe743cea040fddb93a098579cf73fd7a137a913850a...  \n",
       "\n",
       "[27982723 rows x 8 columns]"
      ]
     },
     "execution_count": 91,
     "metadata": {},
     "output_type": "execute_result"
    }
   ],
   "source": [
    "#Descriptive\n",
    "data_before"
   ]
  },
  {
   "cell_type": "code",
   "execution_count": 92,
   "id": "dba5fb3b",
   "metadata": {},
   "outputs": [
    {
     "data": {
      "text/html": [
       "<div>\n",
       "<style scoped>\n",
       "    .dataframe tbody tr th:only-of-type {\n",
       "        vertical-align: middle;\n",
       "    }\n",
       "\n",
       "    .dataframe tbody tr th {\n",
       "        vertical-align: top;\n",
       "    }\n",
       "\n",
       "    .dataframe thead th {\n",
       "        text-align: right;\n",
       "    }\n",
       "</style>\n",
       "<table border=\"1\" class=\"dataframe\">\n",
       "  <thead>\n",
       "    <tr style=\"text-align: right;\">\n",
       "      <th></th>\n",
       "      <th>t_dat</th>\n",
       "      <th>customer_id</th>\n",
       "      <th>price</th>\n",
       "      <th>sales_channel_id</th>\n",
       "      <th>club_member_status</th>\n",
       "      <th>fashion_news_frequency</th>\n",
       "      <th>age</th>\n",
       "      <th>postal_code</th>\n",
       "    </tr>\n",
       "  </thead>\n",
       "  <tbody>\n",
       "    <tr>\n",
       "      <th>27982723</th>\n",
       "      <td>2020-06-25</td>\n",
       "      <td>38</td>\n",
       "      <td>0.025407</td>\n",
       "      <td>1</td>\n",
       "      <td>ACTIVE</td>\n",
       "      <td>Regularly</td>\n",
       "      <td>44.0</td>\n",
       "      <td>930b19ae7db8abb5a27f4da10217755a7305b4c452f5e0...</td>\n",
       "    </tr>\n",
       "    <tr>\n",
       "      <th>27982724</th>\n",
       "      <td>2020-06-25</td>\n",
       "      <td>38</td>\n",
       "      <td>0.015237</td>\n",
       "      <td>1</td>\n",
       "      <td>ACTIVE</td>\n",
       "      <td>Regularly</td>\n",
       "      <td>44.0</td>\n",
       "      <td>930b19ae7db8abb5a27f4da10217755a7305b4c452f5e0...</td>\n",
       "    </tr>\n",
       "    <tr>\n",
       "      <th>27982725</th>\n",
       "      <td>2020-06-25</td>\n",
       "      <td>38</td>\n",
       "      <td>0.042356</td>\n",
       "      <td>1</td>\n",
       "      <td>ACTIVE</td>\n",
       "      <td>Regularly</td>\n",
       "      <td>44.0</td>\n",
       "      <td>930b19ae7db8abb5a27f4da10217755a7305b4c452f5e0...</td>\n",
       "    </tr>\n",
       "    <tr>\n",
       "      <th>27982726</th>\n",
       "      <td>2020-06-25</td>\n",
       "      <td>38</td>\n",
       "      <td>0.030492</td>\n",
       "      <td>1</td>\n",
       "      <td>ACTIVE</td>\n",
       "      <td>Regularly</td>\n",
       "      <td>44.0</td>\n",
       "      <td>930b19ae7db8abb5a27f4da10217755a7305b4c452f5e0...</td>\n",
       "    </tr>\n",
       "    <tr>\n",
       "      <th>27982727</th>\n",
       "      <td>2020-06-25</td>\n",
       "      <td>38</td>\n",
       "      <td>0.025407</td>\n",
       "      <td>1</td>\n",
       "      <td>ACTIVE</td>\n",
       "      <td>Regularly</td>\n",
       "      <td>44.0</td>\n",
       "      <td>930b19ae7db8abb5a27f4da10217755a7305b4c452f5e0...</td>\n",
       "    </tr>\n",
       "    <tr>\n",
       "      <th>...</th>\n",
       "      <td>...</td>\n",
       "      <td>...</td>\n",
       "      <td>...</td>\n",
       "      <td>...</td>\n",
       "      <td>...</td>\n",
       "      <td>...</td>\n",
       "      <td>...</td>\n",
       "      <td>...</td>\n",
       "    </tr>\n",
       "    <tr>\n",
       "      <th>31788319</th>\n",
       "      <td>2020-09-22</td>\n",
       "      <td>1361995</td>\n",
       "      <td>0.059305</td>\n",
       "      <td>2</td>\n",
       "      <td>ACTIVE</td>\n",
       "      <td>Regularly</td>\n",
       "      <td>32.0</td>\n",
       "      <td>2695d7727a61ed8011f93de47dc9445017596302bd0592...</td>\n",
       "    </tr>\n",
       "    <tr>\n",
       "      <th>31788320</th>\n",
       "      <td>2020-09-22</td>\n",
       "      <td>1361995</td>\n",
       "      <td>0.042356</td>\n",
       "      <td>2</td>\n",
       "      <td>ACTIVE</td>\n",
       "      <td>Regularly</td>\n",
       "      <td>32.0</td>\n",
       "      <td>2695d7727a61ed8011f93de47dc9445017596302bd0592...</td>\n",
       "    </tr>\n",
       "    <tr>\n",
       "      <th>31788321</th>\n",
       "      <td>2020-09-22</td>\n",
       "      <td>1362025</td>\n",
       "      <td>0.043203</td>\n",
       "      <td>1</td>\n",
       "      <td>ACTIVE</td>\n",
       "      <td>NONE</td>\n",
       "      <td>67.0</td>\n",
       "      <td>a9c9c4db44316f6e62ea17ba5e8b84c1ec3ebeddb3f299...</td>\n",
       "    </tr>\n",
       "    <tr>\n",
       "      <th>31788322</th>\n",
       "      <td>2020-09-22</td>\n",
       "      <td>1362050</td>\n",
       "      <td>0.006763</td>\n",
       "      <td>1</td>\n",
       "      <td>ACTIVE</td>\n",
       "      <td>Regularly</td>\n",
       "      <td>21.0</td>\n",
       "      <td>3737324e2574c3bde9ef00336bc767781dbed7e828d51a...</td>\n",
       "    </tr>\n",
       "    <tr>\n",
       "      <th>31788323</th>\n",
       "      <td>2020-09-22</td>\n",
       "      <td>1362262</td>\n",
       "      <td>0.033881</td>\n",
       "      <td>2</td>\n",
       "      <td>ACTIVE</td>\n",
       "      <td>Regularly</td>\n",
       "      <td>29.0</td>\n",
       "      <td>47258851e6f73dd2583ef4775814f9b88e43a9e2741c64...</td>\n",
       "    </tr>\n",
       "  </tbody>\n",
       "</table>\n",
       "<p>3805601 rows × 8 columns</p>\n",
       "</div>"
      ],
      "text/plain": [
       "              t_dat  customer_id     price  sales_channel_id  \\\n",
       "27982723 2020-06-25           38  0.025407                 1   \n",
       "27982724 2020-06-25           38  0.015237                 1   \n",
       "27982725 2020-06-25           38  0.042356                 1   \n",
       "27982726 2020-06-25           38  0.030492                 1   \n",
       "27982727 2020-06-25           38  0.025407                 1   \n",
       "...             ...          ...       ...               ...   \n",
       "31788319 2020-09-22      1361995  0.059305                 2   \n",
       "31788320 2020-09-22      1361995  0.042356                 2   \n",
       "31788321 2020-09-22      1362025  0.043203                 1   \n",
       "31788322 2020-09-22      1362050  0.006763                 1   \n",
       "31788323 2020-09-22      1362262  0.033881                 2   \n",
       "\n",
       "         club_member_status fashion_news_frequency   age  \\\n",
       "27982723             ACTIVE              Regularly  44.0   \n",
       "27982724             ACTIVE              Regularly  44.0   \n",
       "27982725             ACTIVE              Regularly  44.0   \n",
       "27982726             ACTIVE              Regularly  44.0   \n",
       "27982727             ACTIVE              Regularly  44.0   \n",
       "...                     ...                    ...   ...   \n",
       "31788319             ACTIVE              Regularly  32.0   \n",
       "31788320             ACTIVE              Regularly  32.0   \n",
       "31788321             ACTIVE                   NONE  67.0   \n",
       "31788322             ACTIVE              Regularly  21.0   \n",
       "31788323             ACTIVE              Regularly  29.0   \n",
       "\n",
       "                                                postal_code  \n",
       "27982723  930b19ae7db8abb5a27f4da10217755a7305b4c452f5e0...  \n",
       "27982724  930b19ae7db8abb5a27f4da10217755a7305b4c452f5e0...  \n",
       "27982725  930b19ae7db8abb5a27f4da10217755a7305b4c452f5e0...  \n",
       "27982726  930b19ae7db8abb5a27f4da10217755a7305b4c452f5e0...  \n",
       "27982727  930b19ae7db8abb5a27f4da10217755a7305b4c452f5e0...  \n",
       "...                                                     ...  \n",
       "31788319  2695d7727a61ed8011f93de47dc9445017596302bd0592...  \n",
       "31788320  2695d7727a61ed8011f93de47dc9445017596302bd0592...  \n",
       "31788321  a9c9c4db44316f6e62ea17ba5e8b84c1ec3ebeddb3f299...  \n",
       "31788322  3737324e2574c3bde9ef00336bc767781dbed7e828d51a...  \n",
       "31788323  47258851e6f73dd2583ef4775814f9b88e43a9e2741c64...  \n",
       "\n",
       "[3805601 rows x 8 columns]"
      ]
     },
     "execution_count": 92,
     "metadata": {},
     "output_type": "execute_result"
    }
   ],
   "source": [
    "#Target\n",
    "data_after"
   ]
  },
  {
   "cell_type": "code",
   "execution_count": 93,
   "id": "cd822550",
   "metadata": {},
   "outputs": [],
   "source": [
    "#Making target values"
   ]
  },
  {
   "cell_type": "code",
   "execution_count": 94,
   "id": "d0a6e2a4",
   "metadata": {},
   "outputs": [],
   "source": [
    "target_df = data_after[['customer_id','price']].groupby('customer_id').sum().rename({'price':'spent_90days'},axis=1).assign(Flag_90days=1)"
   ]
  },
  {
   "cell_type": "code",
   "execution_count": 95,
   "id": "1fdcc928",
   "metadata": {},
   "outputs": [
    {
     "data": {
      "text/html": [
       "<div>\n",
       "<style scoped>\n",
       "    .dataframe tbody tr th:only-of-type {\n",
       "        vertical-align: middle;\n",
       "    }\n",
       "\n",
       "    .dataframe tbody tr th {\n",
       "        vertical-align: top;\n",
       "    }\n",
       "\n",
       "    .dataframe thead th {\n",
       "        text-align: right;\n",
       "    }\n",
       "</style>\n",
       "<table border=\"1\" class=\"dataframe\">\n",
       "  <thead>\n",
       "    <tr style=\"text-align: right;\">\n",
       "      <th></th>\n",
       "      <th>spent_90days</th>\n",
       "      <th>Flag_90days</th>\n",
       "    </tr>\n",
       "    <tr>\n",
       "      <th>customer_id</th>\n",
       "      <th></th>\n",
       "      <th></th>\n",
       "    </tr>\n",
       "  </thead>\n",
       "  <tbody>\n",
       "    <tr>\n",
       "      <th>0</th>\n",
       "      <td>0.050831</td>\n",
       "      <td>1</td>\n",
       "    </tr>\n",
       "    <tr>\n",
       "      <th>1</th>\n",
       "      <td>0.027102</td>\n",
       "      <td>1</td>\n",
       "    </tr>\n",
       "    <tr>\n",
       "      <th>2</th>\n",
       "      <td>0.061000</td>\n",
       "      <td>1</td>\n",
       "    </tr>\n",
       "    <tr>\n",
       "      <th>4</th>\n",
       "      <td>0.128746</td>\n",
       "      <td>1</td>\n",
       "    </tr>\n",
       "    <tr>\n",
       "      <th>6</th>\n",
       "      <td>0.076237</td>\n",
       "      <td>1</td>\n",
       "    </tr>\n",
       "    <tr>\n",
       "      <th>...</th>\n",
       "      <td>...</td>\n",
       "      <td>...</td>\n",
       "    </tr>\n",
       "    <tr>\n",
       "      <th>1362264</th>\n",
       "      <td>0.323559</td>\n",
       "      <td>1</td>\n",
       "    </tr>\n",
       "    <tr>\n",
       "      <th>1362270</th>\n",
       "      <td>0.066051</td>\n",
       "      <td>1</td>\n",
       "    </tr>\n",
       "    <tr>\n",
       "      <th>1362276</th>\n",
       "      <td>0.293017</td>\n",
       "      <td>1</td>\n",
       "    </tr>\n",
       "    <tr>\n",
       "      <th>1362277</th>\n",
       "      <td>0.104949</td>\n",
       "      <td>1</td>\n",
       "    </tr>\n",
       "    <tr>\n",
       "      <th>1362278</th>\n",
       "      <td>0.142203</td>\n",
       "      <td>1</td>\n",
       "    </tr>\n",
       "  </tbody>\n",
       "</table>\n",
       "<p>518920 rows × 2 columns</p>\n",
       "</div>"
      ],
      "text/plain": [
       "             spent_90days  Flag_90days\n",
       "customer_id                           \n",
       "0                0.050831            1\n",
       "1                0.027102            1\n",
       "2                0.061000            1\n",
       "4                0.128746            1\n",
       "6                0.076237            1\n",
       "...                   ...          ...\n",
       "1362264          0.323559            1\n",
       "1362270          0.066051            1\n",
       "1362276          0.293017            1\n",
       "1362277          0.104949            1\n",
       "1362278          0.142203            1\n",
       "\n",
       "[518920 rows x 2 columns]"
      ]
     },
     "execution_count": 95,
     "metadata": {},
     "output_type": "execute_result"
    }
   ],
   "source": [
    "#(0 nnot found)\n",
    "target_df"
   ]
  },
  {
   "cell_type": "code",
   "execution_count": 96,
   "id": "1986dfe0",
   "metadata": {},
   "outputs": [],
   "source": [
    "#We need Last days of purchase, first day of purchase, total sales, Number of purchases"
   ]
  },
  {
   "cell_type": "code",
   "execution_count": 97,
   "id": "a4851304",
   "metadata": {},
   "outputs": [],
   "source": [
    "#Recency\n",
    "##How many days have passed since the last purchase"
   ]
  },
  {
   "cell_type": "code",
   "execution_count": 98,
   "id": "fc56e7c1",
   "metadata": {},
   "outputs": [],
   "source": [
    "max_date_in = data_before['t_dat'].max()"
   ]
  },
  {
   "cell_type": "code",
   "execution_count": 99,
   "id": "61c99d92",
   "metadata": {},
   "outputs": [],
   "source": [
    "recency_features_df = data_before[['customer_id','t_dat']].groupby('customer_id').apply(lambda x: (x['t_dat'].max() - max_date_in) / pd.to_timedelta(1,\"day\")).to_frame().set_axis([\"recency\"], axis=1)"
   ]
  },
  {
   "cell_type": "code",
   "execution_count": 100,
   "id": "7696e218",
   "metadata": {},
   "outputs": [
    {
     "data": {
      "text/html": [
       "<div>\n",
       "<style scoped>\n",
       "    .dataframe tbody tr th:only-of-type {\n",
       "        vertical-align: middle;\n",
       "    }\n",
       "\n",
       "    .dataframe tbody tr th {\n",
       "        vertical-align: top;\n",
       "    }\n",
       "\n",
       "    .dataframe thead th {\n",
       "        text-align: right;\n",
       "    }\n",
       "</style>\n",
       "<table border=\"1\" class=\"dataframe\">\n",
       "  <thead>\n",
       "    <tr style=\"text-align: right;\">\n",
       "      <th></th>\n",
       "      <th>recency</th>\n",
       "    </tr>\n",
       "    <tr>\n",
       "      <th>customer_id</th>\n",
       "      <th></th>\n",
       "    </tr>\n",
       "  </thead>\n",
       "  <tbody>\n",
       "    <tr>\n",
       "      <th>0</th>\n",
       "      <td>-95.0</td>\n",
       "    </tr>\n",
       "    <tr>\n",
       "      <th>1</th>\n",
       "      <td>-63.0</td>\n",
       "    </tr>\n",
       "    <tr>\n",
       "      <th>2</th>\n",
       "      <td>-67.0</td>\n",
       "    </tr>\n",
       "    <tr>\n",
       "      <th>3</th>\n",
       "      <td>-381.0</td>\n",
       "    </tr>\n",
       "    <tr>\n",
       "      <th>4</th>\n",
       "      <td>-21.0</td>\n",
       "    </tr>\n",
       "    <tr>\n",
       "      <th>...</th>\n",
       "      <td>...</td>\n",
       "    </tr>\n",
       "    <tr>\n",
       "      <th>1362276</th>\n",
       "      <td>-4.0</td>\n",
       "    </tr>\n",
       "    <tr>\n",
       "      <th>1362277</th>\n",
       "      <td>-44.0</td>\n",
       "    </tr>\n",
       "    <tr>\n",
       "      <th>1362278</th>\n",
       "      <td>-154.0</td>\n",
       "    </tr>\n",
       "    <tr>\n",
       "      <th>1362279</th>\n",
       "      <td>-2.0</td>\n",
       "    </tr>\n",
       "    <tr>\n",
       "      <th>1362280</th>\n",
       "      <td>-203.0</td>\n",
       "    </tr>\n",
       "  </tbody>\n",
       "</table>\n",
       "<p>1291147 rows × 1 columns</p>\n",
       "</div>"
      ],
      "text/plain": [
       "             recency\n",
       "customer_id         \n",
       "0              -95.0\n",
       "1              -63.0\n",
       "2              -67.0\n",
       "3             -381.0\n",
       "4              -21.0\n",
       "...              ...\n",
       "1362276         -4.0\n",
       "1362277        -44.0\n",
       "1362278       -154.0\n",
       "1362279         -2.0\n",
       "1362280       -203.0\n",
       "\n",
       "[1291147 rows x 1 columns]"
      ]
     },
     "execution_count": 100,
     "metadata": {},
     "output_type": "execute_result"
    }
   ],
   "source": [
    "recency_features_df"
   ]
  },
  {
   "cell_type": "code",
   "execution_count": 101,
   "id": "37e74c01",
   "metadata": {},
   "outputs": [],
   "source": [
    "#Frequency\n",
    "# Number of Orders"
   ]
  },
  {
   "cell_type": "code",
   "execution_count": 102,
   "id": "72875373",
   "metadata": {},
   "outputs": [],
   "source": [
    "frequency_features_df = data_before[['customer_id','t_dat']].groupby('customer_id').count().set_axis(['frequency'], axis=1)"
   ]
  },
  {
   "cell_type": "code",
   "execution_count": 103,
   "id": "a20d1f85",
   "metadata": {},
   "outputs": [
    {
     "data": {
      "text/html": [
       "<div>\n",
       "<style scoped>\n",
       "    .dataframe tbody tr th:only-of-type {\n",
       "        vertical-align: middle;\n",
       "    }\n",
       "\n",
       "    .dataframe tbody tr th {\n",
       "        vertical-align: top;\n",
       "    }\n",
       "\n",
       "    .dataframe thead th {\n",
       "        text-align: right;\n",
       "    }\n",
       "</style>\n",
       "<table border=\"1\" class=\"dataframe\">\n",
       "  <thead>\n",
       "    <tr style=\"text-align: right;\">\n",
       "      <th></th>\n",
       "      <th>frequency</th>\n",
       "    </tr>\n",
       "    <tr>\n",
       "      <th>customer_id</th>\n",
       "      <th></th>\n",
       "    </tr>\n",
       "  </thead>\n",
       "  <tbody>\n",
       "    <tr>\n",
       "      <th>0</th>\n",
       "      <td>20</td>\n",
       "    </tr>\n",
       "    <tr>\n",
       "      <th>1</th>\n",
       "      <td>85</td>\n",
       "    </tr>\n",
       "    <tr>\n",
       "      <th>2</th>\n",
       "      <td>17</td>\n",
       "    </tr>\n",
       "    <tr>\n",
       "      <th>3</th>\n",
       "      <td>2</td>\n",
       "    </tr>\n",
       "    <tr>\n",
       "      <th>4</th>\n",
       "      <td>9</td>\n",
       "    </tr>\n",
       "    <tr>\n",
       "      <th>...</th>\n",
       "      <td>...</td>\n",
       "    </tr>\n",
       "    <tr>\n",
       "      <th>1362276</th>\n",
       "      <td>39</td>\n",
       "    </tr>\n",
       "    <tr>\n",
       "      <th>1362277</th>\n",
       "      <td>76</td>\n",
       "    </tr>\n",
       "    <tr>\n",
       "      <th>1362278</th>\n",
       "      <td>35</td>\n",
       "    </tr>\n",
       "    <tr>\n",
       "      <th>1362279</th>\n",
       "      <td>7</td>\n",
       "    </tr>\n",
       "    <tr>\n",
       "      <th>1362280</th>\n",
       "      <td>1</td>\n",
       "    </tr>\n",
       "  </tbody>\n",
       "</table>\n",
       "<p>1291147 rows × 1 columns</p>\n",
       "</div>"
      ],
      "text/plain": [
       "             frequency\n",
       "customer_id           \n",
       "0                   20\n",
       "1                   85\n",
       "2                   17\n",
       "3                    2\n",
       "4                    9\n",
       "...                ...\n",
       "1362276             39\n",
       "1362277             76\n",
       "1362278             35\n",
       "1362279              7\n",
       "1362280              1\n",
       "\n",
       "[1291147 rows x 1 columns]"
      ]
     },
     "execution_count": 103,
     "metadata": {},
     "output_type": "execute_result"
    }
   ],
   "source": [
    "frequency_features_df"
   ]
  },
  {
   "cell_type": "code",
   "execution_count": 104,
   "id": "190b19e6",
   "metadata": {},
   "outputs": [],
   "source": [
    "#Monertary"
   ]
  },
  {
   "cell_type": "code",
   "execution_count": 105,
   "id": "f4509f5f",
   "metadata": {},
   "outputs": [],
   "source": [
    "price_features_df = data_before.groupby('customer_id').aggregate({\"price\":[\"sum\",\"mean\"]}).set_axis(['Monertary','price_mean'], axis=1)"
   ]
  },
  {
   "cell_type": "code",
   "execution_count": 106,
   "id": "7feca1ae",
   "metadata": {},
   "outputs": [
    {
     "data": {
      "text/html": [
       "<div>\n",
       "<style scoped>\n",
       "    .dataframe tbody tr th:only-of-type {\n",
       "        vertical-align: middle;\n",
       "    }\n",
       "\n",
       "    .dataframe tbody tr th {\n",
       "        vertical-align: top;\n",
       "    }\n",
       "\n",
       "    .dataframe thead th {\n",
       "        text-align: right;\n",
       "    }\n",
       "</style>\n",
       "<table border=\"1\" class=\"dataframe\">\n",
       "  <thead>\n",
       "    <tr style=\"text-align: right;\">\n",
       "      <th></th>\n",
       "      <th>Monertary</th>\n",
       "      <th>price_mean</th>\n",
       "    </tr>\n",
       "    <tr>\n",
       "      <th>customer_id</th>\n",
       "      <th></th>\n",
       "      <th></th>\n",
       "    </tr>\n",
       "  </thead>\n",
       "  <tbody>\n",
       "    <tr>\n",
       "      <th>0</th>\n",
       "      <td>0.598153</td>\n",
       "      <td>0.029908</td>\n",
       "    </tr>\n",
       "    <tr>\n",
       "      <th>1</th>\n",
       "      <td>2.574831</td>\n",
       "      <td>0.030292</td>\n",
       "    </tr>\n",
       "    <tr>\n",
       "      <th>2</th>\n",
       "      <td>0.643780</td>\n",
       "      <td>0.037869</td>\n",
       "    </tr>\n",
       "    <tr>\n",
       "      <th>3</th>\n",
       "      <td>0.060983</td>\n",
       "      <td>0.030492</td>\n",
       "    </tr>\n",
       "    <tr>\n",
       "      <th>4</th>\n",
       "      <td>0.340949</td>\n",
       "      <td>0.037883</td>\n",
       "    </tr>\n",
       "    <tr>\n",
       "      <th>...</th>\n",
       "      <td>...</td>\n",
       "      <td>...</td>\n",
       "    </tr>\n",
       "    <tr>\n",
       "      <th>1362276</th>\n",
       "      <td>0.999339</td>\n",
       "      <td>0.025624</td>\n",
       "    </tr>\n",
       "    <tr>\n",
       "      <th>1362277</th>\n",
       "      <td>1.702373</td>\n",
       "      <td>0.022400</td>\n",
       "    </tr>\n",
       "    <tr>\n",
       "      <th>1362278</th>\n",
       "      <td>0.646729</td>\n",
       "      <td>0.018478</td>\n",
       "    </tr>\n",
       "    <tr>\n",
       "      <th>1362279</th>\n",
       "      <td>0.209203</td>\n",
       "      <td>0.029886</td>\n",
       "    </tr>\n",
       "    <tr>\n",
       "      <th>1362280</th>\n",
       "      <td>0.084729</td>\n",
       "      <td>0.084729</td>\n",
       "    </tr>\n",
       "  </tbody>\n",
       "</table>\n",
       "<p>1291147 rows × 2 columns</p>\n",
       "</div>"
      ],
      "text/plain": [
       "             Monertary  price_mean\n",
       "customer_id                       \n",
       "0             0.598153    0.029908\n",
       "1             2.574831    0.030292\n",
       "2             0.643780    0.037869\n",
       "3             0.060983    0.030492\n",
       "4             0.340949    0.037883\n",
       "...                ...         ...\n",
       "1362276       0.999339    0.025624\n",
       "1362277       1.702373    0.022400\n",
       "1362278       0.646729    0.018478\n",
       "1362279       0.209203    0.029886\n",
       "1362280       0.084729    0.084729\n",
       "\n",
       "[1291147 rows x 2 columns]"
      ]
     },
     "execution_count": 106,
     "metadata": {},
     "output_type": "execute_result"
    }
   ],
   "source": [
    "price_features_df"
   ]
  },
  {
   "cell_type": "code",
   "execution_count": null,
   "id": "b16f2816",
   "metadata": {},
   "outputs": [],
   "source": []
  },
  {
   "cell_type": "code",
   "execution_count": 107,
   "id": "062e8979",
   "metadata": {},
   "outputs": [],
   "source": [
    "#Concatnating all the columns, RFM and target values"
   ]
  },
  {
   "cell_type": "code",
   "execution_count": 108,
   "id": "586f10ac",
   "metadata": {},
   "outputs": [],
   "source": [
    "features_df = pd.concat([recency_features_df, frequency_features_df, price_features_df], axis = 1).merge(target_df,left_index=True,right_index=True,how = \"left\").fillna(0)"
   ]
  },
  {
   "cell_type": "code",
   "execution_count": 109,
   "id": "b54534fd",
   "metadata": {},
   "outputs": [
    {
     "data": {
      "text/html": [
       "<div>\n",
       "<style scoped>\n",
       "    .dataframe tbody tr th:only-of-type {\n",
       "        vertical-align: middle;\n",
       "    }\n",
       "\n",
       "    .dataframe tbody tr th {\n",
       "        vertical-align: top;\n",
       "    }\n",
       "\n",
       "    .dataframe thead th {\n",
       "        text-align: right;\n",
       "    }\n",
       "</style>\n",
       "<table border=\"1\" class=\"dataframe\">\n",
       "  <thead>\n",
       "    <tr style=\"text-align: right;\">\n",
       "      <th></th>\n",
       "      <th>recency</th>\n",
       "      <th>frequency</th>\n",
       "      <th>Monertary</th>\n",
       "      <th>price_mean</th>\n",
       "      <th>spent_90days</th>\n",
       "      <th>Flag_90days</th>\n",
       "    </tr>\n",
       "    <tr>\n",
       "      <th>customer_id</th>\n",
       "      <th></th>\n",
       "      <th></th>\n",
       "      <th></th>\n",
       "      <th></th>\n",
       "      <th></th>\n",
       "      <th></th>\n",
       "    </tr>\n",
       "  </thead>\n",
       "  <tbody>\n",
       "    <tr>\n",
       "      <th>0</th>\n",
       "      <td>-95.0</td>\n",
       "      <td>20</td>\n",
       "      <td>0.598153</td>\n",
       "      <td>0.029908</td>\n",
       "      <td>0.050831</td>\n",
       "      <td>1.0</td>\n",
       "    </tr>\n",
       "    <tr>\n",
       "      <th>1</th>\n",
       "      <td>-63.0</td>\n",
       "      <td>85</td>\n",
       "      <td>2.574831</td>\n",
       "      <td>0.030292</td>\n",
       "      <td>0.027102</td>\n",
       "      <td>1.0</td>\n",
       "    </tr>\n",
       "    <tr>\n",
       "      <th>2</th>\n",
       "      <td>-67.0</td>\n",
       "      <td>17</td>\n",
       "      <td>0.643780</td>\n",
       "      <td>0.037869</td>\n",
       "      <td>0.061000</td>\n",
       "      <td>1.0</td>\n",
       "    </tr>\n",
       "    <tr>\n",
       "      <th>3</th>\n",
       "      <td>-381.0</td>\n",
       "      <td>2</td>\n",
       "      <td>0.060983</td>\n",
       "      <td>0.030492</td>\n",
       "      <td>0.000000</td>\n",
       "      <td>0.0</td>\n",
       "    </tr>\n",
       "    <tr>\n",
       "      <th>4</th>\n",
       "      <td>-21.0</td>\n",
       "      <td>9</td>\n",
       "      <td>0.340949</td>\n",
       "      <td>0.037883</td>\n",
       "      <td>0.128746</td>\n",
       "      <td>1.0</td>\n",
       "    </tr>\n",
       "    <tr>\n",
       "      <th>...</th>\n",
       "      <td>...</td>\n",
       "      <td>...</td>\n",
       "      <td>...</td>\n",
       "      <td>...</td>\n",
       "      <td>...</td>\n",
       "      <td>...</td>\n",
       "    </tr>\n",
       "    <tr>\n",
       "      <th>1362276</th>\n",
       "      <td>-4.0</td>\n",
       "      <td>39</td>\n",
       "      <td>0.999339</td>\n",
       "      <td>0.025624</td>\n",
       "      <td>0.293017</td>\n",
       "      <td>1.0</td>\n",
       "    </tr>\n",
       "    <tr>\n",
       "      <th>1362277</th>\n",
       "      <td>-44.0</td>\n",
       "      <td>76</td>\n",
       "      <td>1.702373</td>\n",
       "      <td>0.022400</td>\n",
       "      <td>0.104949</td>\n",
       "      <td>1.0</td>\n",
       "    </tr>\n",
       "    <tr>\n",
       "      <th>1362278</th>\n",
       "      <td>-154.0</td>\n",
       "      <td>35</td>\n",
       "      <td>0.646729</td>\n",
       "      <td>0.018478</td>\n",
       "      <td>0.142203</td>\n",
       "      <td>1.0</td>\n",
       "    </tr>\n",
       "    <tr>\n",
       "      <th>1362279</th>\n",
       "      <td>-2.0</td>\n",
       "      <td>7</td>\n",
       "      <td>0.209203</td>\n",
       "      <td>0.029886</td>\n",
       "      <td>0.000000</td>\n",
       "      <td>0.0</td>\n",
       "    </tr>\n",
       "    <tr>\n",
       "      <th>1362280</th>\n",
       "      <td>-203.0</td>\n",
       "      <td>1</td>\n",
       "      <td>0.084729</td>\n",
       "      <td>0.084729</td>\n",
       "      <td>0.000000</td>\n",
       "      <td>0.0</td>\n",
       "    </tr>\n",
       "  </tbody>\n",
       "</table>\n",
       "<p>1291147 rows × 6 columns</p>\n",
       "</div>"
      ],
      "text/plain": [
       "             recency  frequency  Monertary  price_mean  spent_90days  \\\n",
       "customer_id                                                            \n",
       "0              -95.0         20   0.598153    0.029908      0.050831   \n",
       "1              -63.0         85   2.574831    0.030292      0.027102   \n",
       "2              -67.0         17   0.643780    0.037869      0.061000   \n",
       "3             -381.0          2   0.060983    0.030492      0.000000   \n",
       "4              -21.0          9   0.340949    0.037883      0.128746   \n",
       "...              ...        ...        ...         ...           ...   \n",
       "1362276         -4.0         39   0.999339    0.025624      0.293017   \n",
       "1362277        -44.0         76   1.702373    0.022400      0.104949   \n",
       "1362278       -154.0         35   0.646729    0.018478      0.142203   \n",
       "1362279         -2.0          7   0.209203    0.029886      0.000000   \n",
       "1362280       -203.0          1   0.084729    0.084729      0.000000   \n",
       "\n",
       "             Flag_90days  \n",
       "customer_id               \n",
       "0                    1.0  \n",
       "1                    1.0  \n",
       "2                    1.0  \n",
       "3                    0.0  \n",
       "4                    1.0  \n",
       "...                  ...  \n",
       "1362276              1.0  \n",
       "1362277              1.0  \n",
       "1362278              1.0  \n",
       "1362279              0.0  \n",
       "1362280              0.0  \n",
       "\n",
       "[1291147 rows x 6 columns]"
      ]
     },
     "execution_count": 109,
     "metadata": {},
     "output_type": "execute_result"
    }
   ],
   "source": [
    "features_df"
   ]
  },
  {
   "cell_type": "code",
   "execution_count": 110,
   "id": "00a23514",
   "metadata": {},
   "outputs": [
    {
     "data": {
      "text/html": [
       "<div>\n",
       "<style scoped>\n",
       "    .dataframe tbody tr th:only-of-type {\n",
       "        vertical-align: middle;\n",
       "    }\n",
       "\n",
       "    .dataframe tbody tr th {\n",
       "        vertical-align: top;\n",
       "    }\n",
       "\n",
       "    .dataframe thead th {\n",
       "        text-align: right;\n",
       "    }\n",
       "</style>\n",
       "<table border=\"1\" class=\"dataframe\">\n",
       "  <thead>\n",
       "    <tr style=\"text-align: right;\">\n",
       "      <th></th>\n",
       "      <th>price</th>\n",
       "      <th>sales_channel_id</th>\n",
       "      <th>age</th>\n",
       "    </tr>\n",
       "    <tr>\n",
       "      <th>customer_id</th>\n",
       "      <th></th>\n",
       "      <th></th>\n",
       "      <th></th>\n",
       "    </tr>\n",
       "  </thead>\n",
       "  <tbody>\n",
       "    <tr>\n",
       "      <th>0</th>\n",
       "      <td>0.054220</td>\n",
       "      <td>2</td>\n",
       "      <td>49.0</td>\n",
       "    </tr>\n",
       "    <tr>\n",
       "      <th>1</th>\n",
       "      <td>0.084729</td>\n",
       "      <td>2</td>\n",
       "      <td>25.0</td>\n",
       "    </tr>\n",
       "    <tr>\n",
       "      <th>2</th>\n",
       "      <td>0.067780</td>\n",
       "      <td>2</td>\n",
       "      <td>24.0</td>\n",
       "    </tr>\n",
       "    <tr>\n",
       "      <th>3</th>\n",
       "      <td>0.030492</td>\n",
       "      <td>2</td>\n",
       "      <td>54.0</td>\n",
       "    </tr>\n",
       "    <tr>\n",
       "      <th>4</th>\n",
       "      <td>0.059305</td>\n",
       "      <td>2</td>\n",
       "      <td>52.0</td>\n",
       "    </tr>\n",
       "    <tr>\n",
       "      <th>5</th>\n",
       "      <td>0.042356</td>\n",
       "      <td>2</td>\n",
       "      <td>31.0</td>\n",
       "    </tr>\n",
       "    <tr>\n",
       "      <th>6</th>\n",
       "      <td>0.025407</td>\n",
       "      <td>2</td>\n",
       "      <td>20.0</td>\n",
       "    </tr>\n",
       "    <tr>\n",
       "      <th>7</th>\n",
       "      <td>0.218644</td>\n",
       "      <td>2</td>\n",
       "      <td>32.0</td>\n",
       "    </tr>\n",
       "    <tr>\n",
       "      <th>8</th>\n",
       "      <td>0.030492</td>\n",
       "      <td>1</td>\n",
       "      <td>20.0</td>\n",
       "    </tr>\n",
       "    <tr>\n",
       "      <th>9</th>\n",
       "      <td>0.038119</td>\n",
       "      <td>1</td>\n",
       "      <td>20.0</td>\n",
       "    </tr>\n",
       "  </tbody>\n",
       "</table>\n",
       "</div>"
      ],
      "text/plain": [
       "                price  sales_channel_id   age\n",
       "customer_id                                  \n",
       "0            0.054220                 2  49.0\n",
       "1            0.084729                 2  25.0\n",
       "2            0.067780                 2  24.0\n",
       "3            0.030492                 2  54.0\n",
       "4            0.059305                 2  52.0\n",
       "5            0.042356                 2  31.0\n",
       "6            0.025407                 2  20.0\n",
       "7            0.218644                 2  32.0\n",
       "8            0.030492                 1  20.0\n",
       "9            0.038119                 1  20.0"
      ]
     },
     "execution_count": 110,
     "metadata": {},
     "output_type": "execute_result"
    }
   ],
   "source": [
    "z = data_before.groupby('customer_id').max(['age','sales_channel_id','club_member_status','fashion_news_frequency'])\n",
    "z.head(10)"
   ]
  },
  {
   "cell_type": "code",
   "execution_count": 111,
   "id": "21afc7f9",
   "metadata": {},
   "outputs": [],
   "source": [
    "features_final = pd.merge(features_df,z,how=\"left\", on=[\"customer_id\",\"customer_id\"])"
   ]
  },
  {
   "cell_type": "code",
   "execution_count": 112,
   "id": "31a1f4bb",
   "metadata": {},
   "outputs": [
    {
     "data": {
      "text/html": [
       "<div>\n",
       "<style scoped>\n",
       "    .dataframe tbody tr th:only-of-type {\n",
       "        vertical-align: middle;\n",
       "    }\n",
       "\n",
       "    .dataframe tbody tr th {\n",
       "        vertical-align: top;\n",
       "    }\n",
       "\n",
       "    .dataframe thead th {\n",
       "        text-align: right;\n",
       "    }\n",
       "</style>\n",
       "<table border=\"1\" class=\"dataframe\">\n",
       "  <thead>\n",
       "    <tr style=\"text-align: right;\">\n",
       "      <th></th>\n",
       "      <th></th>\n",
       "      <th>recency</th>\n",
       "      <th>frequency</th>\n",
       "      <th>Monertary</th>\n",
       "      <th>price_mean</th>\n",
       "      <th>spent_90days</th>\n",
       "      <th>Flag_90days</th>\n",
       "      <th>price</th>\n",
       "      <th>sales_channel_id</th>\n",
       "      <th>age</th>\n",
       "    </tr>\n",
       "    <tr>\n",
       "      <th>customer_id</th>\n",
       "      <th>customer_id</th>\n",
       "      <th></th>\n",
       "      <th></th>\n",
       "      <th></th>\n",
       "      <th></th>\n",
       "      <th></th>\n",
       "      <th></th>\n",
       "      <th></th>\n",
       "      <th></th>\n",
       "      <th></th>\n",
       "    </tr>\n",
       "  </thead>\n",
       "  <tbody>\n",
       "    <tr>\n",
       "      <th>0</th>\n",
       "      <th>0</th>\n",
       "      <td>-95.0</td>\n",
       "      <td>20</td>\n",
       "      <td>0.598153</td>\n",
       "      <td>0.029908</td>\n",
       "      <td>0.050831</td>\n",
       "      <td>1.0</td>\n",
       "      <td>0.054220</td>\n",
       "      <td>2</td>\n",
       "      <td>49.0</td>\n",
       "    </tr>\n",
       "    <tr>\n",
       "      <th>1</th>\n",
       "      <th>1</th>\n",
       "      <td>-63.0</td>\n",
       "      <td>85</td>\n",
       "      <td>2.574831</td>\n",
       "      <td>0.030292</td>\n",
       "      <td>0.027102</td>\n",
       "      <td>1.0</td>\n",
       "      <td>0.084729</td>\n",
       "      <td>2</td>\n",
       "      <td>25.0</td>\n",
       "    </tr>\n",
       "    <tr>\n",
       "      <th>2</th>\n",
       "      <th>2</th>\n",
       "      <td>-67.0</td>\n",
       "      <td>17</td>\n",
       "      <td>0.643780</td>\n",
       "      <td>0.037869</td>\n",
       "      <td>0.061000</td>\n",
       "      <td>1.0</td>\n",
       "      <td>0.067780</td>\n",
       "      <td>2</td>\n",
       "      <td>24.0</td>\n",
       "    </tr>\n",
       "    <tr>\n",
       "      <th>3</th>\n",
       "      <th>3</th>\n",
       "      <td>-381.0</td>\n",
       "      <td>2</td>\n",
       "      <td>0.060983</td>\n",
       "      <td>0.030492</td>\n",
       "      <td>0.000000</td>\n",
       "      <td>0.0</td>\n",
       "      <td>0.030492</td>\n",
       "      <td>2</td>\n",
       "      <td>54.0</td>\n",
       "    </tr>\n",
       "    <tr>\n",
       "      <th>4</th>\n",
       "      <th>4</th>\n",
       "      <td>-21.0</td>\n",
       "      <td>9</td>\n",
       "      <td>0.340949</td>\n",
       "      <td>0.037883</td>\n",
       "      <td>0.128746</td>\n",
       "      <td>1.0</td>\n",
       "      <td>0.059305</td>\n",
       "      <td>2</td>\n",
       "      <td>52.0</td>\n",
       "    </tr>\n",
       "    <tr>\n",
       "      <th>...</th>\n",
       "      <th>...</th>\n",
       "      <td>...</td>\n",
       "      <td>...</td>\n",
       "      <td>...</td>\n",
       "      <td>...</td>\n",
       "      <td>...</td>\n",
       "      <td>...</td>\n",
       "      <td>...</td>\n",
       "      <td>...</td>\n",
       "      <td>...</td>\n",
       "    </tr>\n",
       "    <tr>\n",
       "      <th>1362276</th>\n",
       "      <th>1362276</th>\n",
       "      <td>-4.0</td>\n",
       "      <td>39</td>\n",
       "      <td>0.999339</td>\n",
       "      <td>0.025624</td>\n",
       "      <td>0.293017</td>\n",
       "      <td>1.0</td>\n",
       "      <td>0.067780</td>\n",
       "      <td>2</td>\n",
       "      <td>24.0</td>\n",
       "    </tr>\n",
       "    <tr>\n",
       "      <th>1362277</th>\n",
       "      <th>1362277</th>\n",
       "      <td>-44.0</td>\n",
       "      <td>76</td>\n",
       "      <td>1.702373</td>\n",
       "      <td>0.022400</td>\n",
       "      <td>0.104949</td>\n",
       "      <td>1.0</td>\n",
       "      <td>0.076254</td>\n",
       "      <td>2</td>\n",
       "      <td>21.0</td>\n",
       "    </tr>\n",
       "    <tr>\n",
       "      <th>1362278</th>\n",
       "      <th>1362278</th>\n",
       "      <td>-154.0</td>\n",
       "      <td>35</td>\n",
       "      <td>0.646729</td>\n",
       "      <td>0.018478</td>\n",
       "      <td>0.142203</td>\n",
       "      <td>1.0</td>\n",
       "      <td>0.042356</td>\n",
       "      <td>2</td>\n",
       "      <td>21.0</td>\n",
       "    </tr>\n",
       "    <tr>\n",
       "      <th>1362279</th>\n",
       "      <th>1362279</th>\n",
       "      <td>-2.0</td>\n",
       "      <td>7</td>\n",
       "      <td>0.209203</td>\n",
       "      <td>0.029886</td>\n",
       "      <td>0.000000</td>\n",
       "      <td>0.0</td>\n",
       "      <td>0.050831</td>\n",
       "      <td>2</td>\n",
       "      <td>18.0</td>\n",
       "    </tr>\n",
       "    <tr>\n",
       "      <th>1362280</th>\n",
       "      <th>1362280</th>\n",
       "      <td>-203.0</td>\n",
       "      <td>1</td>\n",
       "      <td>0.084729</td>\n",
       "      <td>0.084729</td>\n",
       "      <td>0.000000</td>\n",
       "      <td>0.0</td>\n",
       "      <td>0.084729</td>\n",
       "      <td>2</td>\n",
       "      <td>65.0</td>\n",
       "    </tr>\n",
       "  </tbody>\n",
       "</table>\n",
       "<p>1291147 rows × 9 columns</p>\n",
       "</div>"
      ],
      "text/plain": [
       "                         recency  frequency  Monertary  price_mean  \\\n",
       "customer_id customer_id                                              \n",
       "0           0              -95.0         20   0.598153    0.029908   \n",
       "1           1              -63.0         85   2.574831    0.030292   \n",
       "2           2              -67.0         17   0.643780    0.037869   \n",
       "3           3             -381.0          2   0.060983    0.030492   \n",
       "4           4              -21.0          9   0.340949    0.037883   \n",
       "...                          ...        ...        ...         ...   \n",
       "1362276     1362276         -4.0         39   0.999339    0.025624   \n",
       "1362277     1362277        -44.0         76   1.702373    0.022400   \n",
       "1362278     1362278       -154.0         35   0.646729    0.018478   \n",
       "1362279     1362279         -2.0          7   0.209203    0.029886   \n",
       "1362280     1362280       -203.0          1   0.084729    0.084729   \n",
       "\n",
       "                         spent_90days  Flag_90days     price  \\\n",
       "customer_id customer_id                                        \n",
       "0           0                0.050831          1.0  0.054220   \n",
       "1           1                0.027102          1.0  0.084729   \n",
       "2           2                0.061000          1.0  0.067780   \n",
       "3           3                0.000000          0.0  0.030492   \n",
       "4           4                0.128746          1.0  0.059305   \n",
       "...                               ...          ...       ...   \n",
       "1362276     1362276          0.293017          1.0  0.067780   \n",
       "1362277     1362277          0.104949          1.0  0.076254   \n",
       "1362278     1362278          0.142203          1.0  0.042356   \n",
       "1362279     1362279          0.000000          0.0  0.050831   \n",
       "1362280     1362280          0.000000          0.0  0.084729   \n",
       "\n",
       "                         sales_channel_id   age  \n",
       "customer_id customer_id                          \n",
       "0           0                           2  49.0  \n",
       "1           1                           2  25.0  \n",
       "2           2                           2  24.0  \n",
       "3           3                           2  54.0  \n",
       "4           4                           2  52.0  \n",
       "...                                   ...   ...  \n",
       "1362276     1362276                     2  24.0  \n",
       "1362277     1362277                     2  21.0  \n",
       "1362278     1362278                     2  21.0  \n",
       "1362279     1362279                     2  18.0  \n",
       "1362280     1362280                     2  65.0  \n",
       "\n",
       "[1291147 rows x 9 columns]"
      ]
     },
     "execution_count": 112,
     "metadata": {},
     "output_type": "execute_result"
    }
   ],
   "source": [
    "features_final"
   ]
  },
  {
   "cell_type": "code",
   "execution_count": 113,
   "id": "df88e78e",
   "metadata": {},
   "outputs": [],
   "source": [
    "#Correlation"
   ]
  },
  {
   "cell_type": "code",
   "execution_count": 115,
   "id": "edc09d8d",
   "metadata": {},
   "outputs": [
    {
     "data": {
      "text/plain": [
       "<AxesSubplot:>"
      ]
     },
     "execution_count": 115,
     "metadata": {},
     "output_type": "execute_result"
    },
    {
     "data": {
      "image/png": "[encoded data removed]",
      "text/plain": [
       "<Figure size 432x288 with 2 Axes>"
      ]
     },
     "metadata": {
      "needs_background": "light"
     },
     "output_type": "display_data"
    }
   ],
   "source": [
    "r = features_final.corr()\n",
    "sns.heatmap(r,vmax=.8,square=True)"
   ]
  },
  {
   "cell_type": "code",
   "execution_count": 116,
   "id": "ea9b416f",
   "metadata": {},
   "outputs": [],
   "source": [
    "#Histograms"
   ]
  },
  {
   "cell_type": "code",
   "execution_count": 117,
   "id": "bfe70b74",
   "metadata": {},
   "outputs": [
    {
     "data": {
      "image/png": "[encoded data removed]",
      "text/plain": [
       "<Figure size 432x288 with 1 Axes>"
      ]
     },
     "metadata": {
      "needs_background": "light"
     },
     "output_type": "display_data"
    }
   ],
   "source": [
    "plt.hist(features_final['age'],bins=10,edgecolor='black')\n",
    "plt.xlabel('AGE')\n",
    "plt.title('Age')\n",
    "plt.show()"
   ]
  },
  {
   "cell_type": "code",
   "execution_count": 118,
   "id": "778e29cd",
   "metadata": {},
   "outputs": [
    {
     "data": {
      "image/png": "[encoded data removed]",
      "text/plain": [
       "<Figure size 432x288 with 1 Axes>"
      ]
     },
     "metadata": {
      "needs_background": "light"
     },
     "output_type": "display_data"
    }
   ],
   "source": [
    "plt.hist(features_final['recency'],bins=10,edgecolor='black')\n",
    "plt.xlabel('recency')\n",
    "plt.title('Recency')\n",
    "plt.show()"
   ]
  },
  {
   "cell_type": "code",
   "execution_count": 119,
   "id": "eb01b786",
   "metadata": {},
   "outputs": [
    {
     "data": {
      "image/png": "[encoded data removed]",
      "text/plain": [
       "<Figure size 432x288 with 1 Axes>"
      ]
     },
     "metadata": {
      "needs_background": "light"
     },
     "output_type": "display_data"
    }
   ],
   "source": [
    "plt.hist(features_final['frequency'],bins=10,edgecolor='black')\n",
    "plt.xlabel('frequency')\n",
    "plt.title('Frequency')\n",
    "plt.show()"
   ]
  },
  {
   "cell_type": "code",
   "execution_count": 126,
   "id": "45a2f98d",
   "metadata": {},
   "outputs": [
    {
     "data": {
      "image/png": "[encoded data removed]",
      "text/plain": [
       "<Figure size 432x288 with 1 Axes>"
      ]
     },
     "metadata": {
      "needs_background": "light"
     },
     "output_type": "display_data"
    }
   ],
   "source": [
    "plt.hist(features_final['Monertary'],bins=2,edgecolor='black')\n",
    "plt.xlabel('Monertary')\n",
    "plt.title('Monertary')\n",
    "plt.show()"
   ]
  },
  {
   "cell_type": "code",
   "execution_count": 121,
   "id": "7447a289",
   "metadata": {},
   "outputs": [
    {
     "data": {
      "image/png": "[encoded data removed]",
      "text/plain": [
       "<Figure size 432x288 with 1 Axes>"
      ]
     },
     "metadata": {
      "needs_background": "light"
     },
     "output_type": "display_data"
    }
   ],
   "source": [
    "plt.hist(features_final['price'],bins=10,edgecolor='black')\n",
    "plt.xlabel('Price')\n",
    "plt.title('Price')\n",
    "plt.show()"
   ]
  },
  {
   "cell_type": "code",
   "execution_count": null,
   "id": "a022971d",
   "metadata": {},
   "outputs": [],
   "source": []
  },
  {
   "cell_type": "code",
   "execution_count": null,
   "id": "6a30d795",
   "metadata": {},
   "outputs": [],
   "source": [
    "#Normalization"
   ]
  },
  {
   "cell_type": "code",
   "execution_count": null,
   "id": "12de2d25",
   "metadata": {},
   "outputs": [],
   "source": []
  },
  {
   "cell_type": "code",
   "execution_count": null,
   "id": "b18b1e9b",
   "metadata": {},
   "outputs": [],
   "source": [
    "#Abt\n",
    "#Norm\n",
    "          #Age\n",
    "          #correlatio\n",
    "          #art\n",
    "        #mode sales \n",
    "       #age sepearate\n",
    "          #article ID, FN, Active remove\n",
    "#yes and nO using Active(based on lastest)\n",
    "          #Data quality value\n",
    "         #Sales channel mode"
   ]
  },
  {
   "cell_type": "code",
   "execution_count": null,
   "id": "ea240cf1",
   "metadata": {},
   "outputs": [],
   "source": []
  },
  {
   "cell_type": "code",
   "execution_count": null,
   "id": "99ae8a7f",
   "metadata": {},
   "outputs": [],
   "source": []
  }
 ],
 "metadata": {
  "kernelspec": {
   "display_name": "Python 3 (ipykernel)",
   "language": "python",
   "name": "python3"
  },
  "language_info": {
   "codemirror_mode": {
    "name": "ipython",
    "version": 3
   },
   "file_extension": ".py",
   "mimetype": "text/x-python",
   "name": "python",
   "nbconvert_exporter": "python",
   "pygments_lexer": "ipython3",
   "version": "3.9.7"
  }
 },
 "nbformat": 4,
 "nbformat_minor": 5
}
